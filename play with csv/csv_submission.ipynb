{
 "cells": [
  {
   "cell_type": "code",
   "execution_count": 1,
   "id": "34bc2422",
   "metadata": {
    "_cell_guid": "b1076dfc-b9ad-4769-8c92-a6c4dae69d19",
    "_uuid": "8f2839f25d086af736a60e9eeb907d3b93b6e0e5",
    "execution": {
     "iopub.execute_input": "2024-02-15T05:01:03.616753Z",
     "iopub.status.busy": "2024-02-15T05:01:03.616324Z",
     "iopub.status.idle": "2024-02-15T05:01:04.747866Z",
     "shell.execute_reply": "2024-02-15T05:01:04.746449Z"
    },
    "papermill": {
     "duration": 1.13981,
     "end_time": "2024-02-15T05:01:04.750621",
     "exception": false,
     "start_time": "2024-02-15T05:01:03.610811",
     "status": "completed"
    },
    "tags": []
   },
   "outputs": [
    {
     "name": "stdout",
     "output_type": "stream",
     "text": [
      "/kaggle/input/output/output.csv\n",
      "/kaggle/input/sample-submission/sample_submission.csv\n",
      "/kaggle/input/regipa/sample_submission.csv\n",
      "/kaggle/input/regipa/train_regipa.csv\n",
      "/kaggle/input/regipa/test_regipa.csv\n",
      "/kaggle/input/csv-checker-1st/submission (14).csv\n"
     ]
    }
   ],
   "source": [
    "# This Python 3 environment comes with many helpful analytics libraries installed\n",
    "# It is defined by the kaggle/python Docker image: https://github.com/kaggle/docker-python\n",
    "# For example, here's several helpful packages to load\n",
    "\n",
    "import numpy as np # linear algebra\n",
    "import pandas as pd # data processing, CSV file I/O (e.g. pd.read_csv)\n",
    "\n",
    "# Input data files are available in the read-only \"../input/\" directory\n",
    "# For example, running this (by clicking run or pressing Shift+Enter) will list all files under the input directory\n",
    "\n",
    "import os\n",
    "for dirname, _, filenames in os.walk('/kaggle/input'):\n",
    "    for filename in filenames:\n",
    "        print(os.path.join(dirname, filename))\n",
    "\n",
    "# You can write up to 20GB to the current directory (/kaggle/working/) that gets preserved as output when you create a version using \"Save & Run All\" \n",
    "# You can also write temporary files to /kaggle/temp/, but they won't be saved outside of the current session"
   ]
  },
  {
   "cell_type": "code",
   "execution_count": 2,
   "id": "03e6069d",
   "metadata": {
    "execution": {
     "iopub.execute_input": "2024-02-15T05:01:04.759840Z",
     "iopub.status.busy": "2024-02-15T05:01:04.759336Z",
     "iopub.status.idle": "2024-02-15T05:01:04.882042Z",
     "shell.execute_reply": "2024-02-15T05:01:04.880451Z"
    },
    "papermill": {
     "duration": 0.130565,
     "end_time": "2024-02-15T05:01:04.884648",
     "exception": false,
     "start_time": "2024-02-15T05:01:04.754083",
     "status": "completed"
    },
    "tags": []
   },
   "outputs": [
    {
     "name": "stdout",
     "output_type": "stream",
     "text": [
      "\n",
      "DataFrame after renaming columns:\n",
      "      Index                                                IPA\n",
      "0         0      ɛlɐ ʃɔbɐe̯ ʃɔbɐɾ hɐt̪ot̪ <> ʃɔbɐe̯ mɐnuʃ ɐce?\n",
      "1         1                              ke͡u̯ kɐɾo ɪjɐ nɐ͡ɪ̯।\n",
      "2         2  ɛlɐ o͡ɪ̯ ɟe, ko͡ɪ̯lkɐ bɛtɐe̯ ɪpt̪ɐɾɪ ɐnce, khɐ...\n",
      "3         3                          ɐɾ mu͡ɪ̯ ɐgeʃ kɪ koɾcɪnu?\n",
      "4         4              <> ɐgeɾ kɔt̪ɐ bɐd̪ d̪e͡o̯, elɐ nɐ͡ɪ̯।\n",
      "...     ...                                                ...\n",
      "8936   8936             pɔɾe ɟɛdɪ t̪ɔkhon puɾɐ bɦɐ͡ɪ̯ŋgɐ pɔɾe।\n",
      "8937   8937  ɐɾ phɐ͡ɪ̯dɪɾ ʃɐt̪he ɐɾo kɪchu mɐnuʃeɾ bɦɐʃe hɔ...\n",
      "8938   8938  ɟe ɟɐɾɐ ɐʃole o͡ɪ̯ ɟɐɾɐ elbɐm ɾɪlɪɟ d̪ee̯ o͡ɪ̯...\n",
      "8939   8939  ɟɐɾɐ ɐʃole phɐ͡ɪ̯ɾɪɾ e͡ɪ̯ ɟɔmnɔbʃɪt̪ɐdɐ ɐʃole ...\n",
      "8940   8940                         t̪ɐɾ cɐ͡ɪ̯chɪlo phɛdɪ ɟɐnɪ\n",
      "\n",
      "[8941 rows x 2 columns]\n"
     ]
    }
   ],
   "source": [
    "import pandas as pd\n",
    "\n",
    "# Read the CSV file into a DataFrame\n",
    "df = pd.read_csv('/kaggle/input/csv-checker-1st/submission (14).csv')\n",
    "\n",
    "\n",
    "# Check if there's any unnamed column\n",
    "unnamed_columns = [col for col in df.columns if 'Unnamed' in col]\n",
    "\n",
    "if unnamed_columns:\n",
    "    # Rename the first unnamed column to a desired name\n",
    "    new_name = 'Index'  # Specify your desired name here\n",
    "    old_name = unnamed_columns[0]\n",
    "    df.rename(columns={old_name: new_name}, inplace=True)\n",
    "\n",
    "\n",
    "# Display the DataFrame after renaming the columns\n",
    "print(\"\\nDataFrame after renaming columns:\")\n",
    "print(df)\n",
    "df.to_csv('output.csv', index=False)\n"
   ]
  },
  {
   "cell_type": "code",
   "execution_count": 3,
   "id": "3b949c7a",
   "metadata": {
    "execution": {
     "iopub.execute_input": "2024-02-15T05:01:04.892975Z",
     "iopub.status.busy": "2024-02-15T05:01:04.892569Z",
     "iopub.status.idle": "2024-02-15T05:01:04.922553Z",
     "shell.execute_reply": "2024-02-15T05:01:04.920934Z"
    },
    "papermill": {
     "duration": 0.037507,
     "end_time": "2024-02-15T05:01:04.925483",
     "exception": false,
     "start_time": "2024-02-15T05:01:04.887976",
     "status": "completed"
    },
    "tags": []
   },
   "outputs": [
    {
     "name": "stdout",
     "output_type": "stream",
     "text": [
      "      Index                                                IPA\n",
      "0         0  zet?t?e t????m f?e? ?t?t?e e d?uno?u????e ?f?m...\n",
      "1         1  zet?t?e t????m f?e? ?t?t?e e d?uno?u????e ?f?m...\n",
      "2         2  zet?t?e t????m f?e? ?t?t?e e d?uno?u????e ?f?m...\n",
      "3         3  zet?t?e t????m f?e? ?t?t?e e d?uno?u????e ?f?m...\n",
      "4         4  zet?t?e t????m f?e? ?t?t?e e d?uno?u????e ?f?m...\n",
      "...     ...                                                ...\n",
      "8936   8936  zet?t?e t????m f?e? ?t?t?e e d?uno?u????e ?f?m...\n",
      "8937   8937  zet?t?e t????m f?e? ?t?t?e e d?uno?u????e ?f?m...\n",
      "8938   8938  zet?t?e t????m f?e? ?t?t?e e d?uno?u????e ?f?m...\n",
      "8939   8939  zet?t?e t????m f?e? ?t?t?e e d?uno?u????e ?f?m...\n",
      "8940   8940  zet?t?e t????m f?e? ?t?t?e e d?uno?u????e ?f?m...\n",
      "\n",
      "[8941 rows x 2 columns]\n"
     ]
    }
   ],
   "source": [
    "import pandas as pd\n",
    "\n",
    "# Read the CSV file into a DataFrame\n",
    "df = pd.read_csv('/kaggle/input/sample-submission/sample_submission.csv')\n",
    "\n",
    "\n",
    "\n",
    "print(df)\n",
    "\n"
   ]
  },
  {
   "cell_type": "code",
   "execution_count": 4,
   "id": "7da85c69",
   "metadata": {
    "execution": {
     "iopub.execute_input": "2024-02-15T05:01:04.935002Z",
     "iopub.status.busy": "2024-02-15T05:01:04.934307Z",
     "iopub.status.idle": "2024-02-15T05:01:04.981377Z",
     "shell.execute_reply": "2024-02-15T05:01:04.980262Z"
    },
    "papermill": {
     "duration": 0.055711,
     "end_time": "2024-02-15T05:01:04.985155",
     "exception": false,
     "start_time": "2024-02-15T05:01:04.929444",
     "status": "completed"
    },
    "tags": []
   },
   "outputs": [
    {
     "name": "stdout",
     "output_type": "stream",
     "text": [
      "      Index                                                IPA\n",
      "0         0      ɛlɐ ʃɔbɐe̯ ʃɔbɐɾ hɐt̪ot̪ <> ʃɔbɐe̯ mɐnuʃ ɐce?\n",
      "1         1                              ke͡u̯ kɐɾo ɪjɐ nɐ͡ɪ̯।\n",
      "2         2  ɛlɐ o͡ɪ̯ ɟe, ko͡ɪ̯lkɐ bɛtɐe̯ ɪpt̪ɐɾɪ ɐnce, khɐ...\n",
      "3         3                          ɐɾ mu͡ɪ̯ ɐgeʃ kɪ koɾcɪnu?\n",
      "4         4              <> ɐgeɾ kɔt̪ɐ bɐd̪ d̪e͡o̯, elɐ nɐ͡ɪ̯।\n",
      "...     ...                                                ...\n",
      "8936   8936             pɔɾe ɟɛdɪ t̪ɔkhon puɾɐ bɦɐ͡ɪ̯ŋgɐ pɔɾe।\n",
      "8937   8937  ɐɾ phɐ͡ɪ̯dɪɾ ʃɐt̪he ɐɾo kɪchu mɐnuʃeɾ bɦɐʃe hɔ...\n",
      "8938   8938  ɟe ɟɐɾɐ ɐʃole o͡ɪ̯ ɟɐɾɐ elbɐm ɾɪlɪɟ d̪ee̯ o͡ɪ̯...\n",
      "8939   8939  ɟɐɾɐ ɐʃole phɐ͡ɪ̯ɾɪɾ e͡ɪ̯ ɟɔmnɔbʃɪt̪ɐdɐ ɐʃole ...\n",
      "8940   8940                         t̪ɐɾ cɐ͡ɪ̯chɪlo phɛdɪ ɟɐnɪ\n",
      "\n",
      "[8941 rows x 2 columns]\n"
     ]
    }
   ],
   "source": [
    "import pandas as pd\n",
    "\n",
    "# Read the CSV file into a DataFrame\n",
    "df = pd.read_csv('/kaggle/input/output/output.csv')\n",
    "\n",
    "\n",
    "\n",
    "print(df)\n"
   ]
  }
 ],
 "metadata": {
  "kaggle": {
   "accelerator": "none",
   "dataSources": [
    {
     "databundleVersionId": 7720839,
     "sourceId": 70573,
     "sourceType": "competition"
    },
    {
     "datasetId": 4444099,
     "sourceId": 7627995,
     "sourceType": "datasetVersion"
    },
    {
     "datasetId": 4444134,
     "sourceId": 7628040,
     "sourceType": "datasetVersion"
    },
    {
     "datasetId": 4444141,
     "sourceId": 7628051,
     "sourceType": "datasetVersion"
    }
   ],
   "dockerImageVersionId": 30646,
   "isGpuEnabled": false,
   "isInternetEnabled": true,
   "language": "python",
   "sourceType": "notebook"
  },
  "kernelspec": {
   "display_name": "Python 3",
   "language": "python",
   "name": "python3"
  },
  "language_info": {
   "codemirror_mode": {
    "name": "ipython",
    "version": 3
   },
   "file_extension": ".py",
   "mimetype": "text/x-python",
   "name": "python",
   "nbconvert_exporter": "python",
   "pygments_lexer": "ipython3",
   "version": "3.10.13"
  },
  "papermill": {
   "default_parameters": {},
   "duration": 5.308329,
   "end_time": "2024-02-15T05:01:05.510834",
   "environment_variables": {},
   "exception": null,
   "input_path": "__notebook__.ipynb",
   "output_path": "__notebook__.ipynb",
   "parameters": {},
   "start_time": "2024-02-15T05:01:00.202505",
   "version": "2.5.0"
  }
 },
 "nbformat": 4,
 "nbformat_minor": 5
}
