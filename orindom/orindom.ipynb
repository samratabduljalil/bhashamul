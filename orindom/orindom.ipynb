{
 "cells": [
  {
   "cell_type": "code",
   "execution_count": 1,
   "id": "d405e54a",
   "metadata": {
    "execution": {
     "iopub.execute_input": "2024-02-23T04:09:48.325554Z",
     "iopub.status.busy": "2024-02-23T04:09:48.325178Z",
     "iopub.status.idle": "2024-02-23T04:09:48.329871Z",
     "shell.execute_reply": "2024-02-23T04:09:48.329178Z"
    },
    "papermill": {
     "duration": 0.014673,
     "end_time": "2024-02-23T04:09:48.331712",
     "exception": false,
     "start_time": "2024-02-23T04:09:48.317039",
     "status": "completed"
    },
    "tags": []
   },
   "outputs": [],
   "source": [
    "#"
   ]
  },
  {
   "cell_type": "code",
   "execution_count": 2,
   "id": "07036550",
   "metadata": {
    "execution": {
     "iopub.execute_input": "2024-02-23T04:09:48.345226Z",
     "iopub.status.busy": "2024-02-23T04:09:48.344962Z",
     "iopub.status.idle": "2024-02-23T04:09:48.348575Z",
     "shell.execute_reply": "2024-02-23T04:09:48.347657Z"
    },
    "papermill": {
     "duration": 0.012351,
     "end_time": "2024-02-23T04:09:48.350354",
     "exception": false,
     "start_time": "2024-02-23T04:09:48.338003",
     "status": "completed"
    },
    "tags": []
   },
   "outputs": [],
   "source": [
    "#"
   ]
  },
  {
   "cell_type": "code",
   "execution_count": 3,
   "id": "ab3ffd32",
   "metadata": {
    "execution": {
     "iopub.execute_input": "2024-02-23T04:09:48.363659Z",
     "iopub.status.busy": "2024-02-23T04:09:48.363364Z",
     "iopub.status.idle": "2024-02-23T04:10:01.737713Z",
     "shell.execute_reply": "2024-02-23T04:10:01.736502Z"
    },
    "papermill": {
     "duration": 13.38354,
     "end_time": "2024-02-23T04:10:01.740070",
     "exception": false,
     "start_time": "2024-02-23T04:09:48.356530",
     "status": "completed"
    },
    "tags": []
   },
   "outputs": [
    {
     "name": "stdout",
     "output_type": "stream",
     "text": [
      "Collecting jiwer\r\n",
      "  Downloading jiwer-3.0.3-py3-none-any.whl.metadata (2.6 kB)\r\n",
      "Requirement already satisfied: click<9.0.0,>=8.1.3 in /opt/conda/lib/python3.10/site-packages (from jiwer) (8.1.7)\r\n",
      "Requirement already satisfied: rapidfuzz<4,>=3 in /opt/conda/lib/python3.10/site-packages (from jiwer) (3.6.1)\r\n",
      "Downloading jiwer-3.0.3-py3-none-any.whl (21 kB)\r\n",
      "Installing collected packages: jiwer\r\n",
      "Successfully installed jiwer-3.0.3\r\n"
     ]
    }
   ],
   "source": [
    "! pip install jiwer"
   ]
  },
  {
   "cell_type": "code",
   "execution_count": 4,
   "id": "19df7b44",
   "metadata": {
    "execution": {
     "iopub.execute_input": "2024-02-23T04:10:01.755151Z",
     "iopub.status.busy": "2024-02-23T04:10:01.754819Z",
     "iopub.status.idle": "2024-02-23T04:10:03.578719Z",
     "shell.execute_reply": "2024-02-23T04:10:03.577893Z"
    },
    "papermill": {
     "duration": 1.833946,
     "end_time": "2024-02-23T04:10:03.580937",
     "exception": false,
     "start_time": "2024-02-23T04:10:01.746991",
     "status": "completed"
    },
    "tags": []
   },
   "outputs": [],
   "source": [
    "import pandas as pd\n",
    "from sklearn.model_selection import train_test_split"
   ]
  },
  {
   "cell_type": "code",
   "execution_count": 5,
   "id": "6086c7ce",
   "metadata": {
    "execution": {
     "iopub.execute_input": "2024-02-23T04:10:03.595868Z",
     "iopub.status.busy": "2024-02-23T04:10:03.595451Z",
     "iopub.status.idle": "2024-02-23T04:10:03.985239Z",
     "shell.execute_reply": "2024-02-23T04:10:03.984486Z"
    },
    "papermill": {
     "duration": 0.399741,
     "end_time": "2024-02-23T04:10:03.987592",
     "exception": false,
     "start_time": "2024-02-23T04:10:03.587851",
     "status": "completed"
    },
    "tags": []
   },
   "outputs": [],
   "source": [
    "train_df = pd.read_csv(\"/kaggle/input/ipa-dataverse-added/output_dataverse.csv\")\n",
    "train_df = train_df[[\"Contents\", \"IPA\"]]\n",
    "\n",
    "train_df, val_df = train_test_split(train_df, test_size=0.0001, shuffle=True, random_state=3000)\n",
    "train_df = train_df.reset_index(drop=True)\n",
    "val_df = val_df.reset_index(drop=True)"
   ]
  },
  {
   "cell_type": "code",
   "execution_count": 6,
   "id": "f9293ace",
   "metadata": {
    "execution": {
     "iopub.execute_input": "2024-02-23T04:10:04.002873Z",
     "iopub.status.busy": "2024-02-23T04:10:04.002235Z",
     "iopub.status.idle": "2024-02-23T04:10:05.249798Z",
     "shell.execute_reply": "2024-02-23T04:10:05.248961Z"
    },
    "papermill": {
     "duration": 1.257419,
     "end_time": "2024-02-23T04:10:05.252002",
     "exception": false,
     "start_time": "2024-02-23T04:10:03.994583",
     "status": "completed"
    },
    "tags": []
   },
   "outputs": [],
   "source": [
    "from datasets import Dataset\n",
    "\n",
    "ds_train = Dataset.from_pandas(train_df)\n",
    "ds_eval = Dataset.from_pandas(val_df)"
   ]
  },
  {
   "cell_type": "code",
   "execution_count": 7,
   "id": "6b54e193",
   "metadata": {
    "execution": {
     "iopub.execute_input": "2024-02-23T04:10:05.267135Z",
     "iopub.status.busy": "2024-02-23T04:10:05.266688Z",
     "iopub.status.idle": "2024-02-23T04:10:50.292966Z",
     "shell.execute_reply": "2024-02-23T04:10:50.292142Z"
    },
    "papermill": {
     "duration": 45.035999,
     "end_time": "2024-02-23T04:10:50.295000",
     "exception": false,
     "start_time": "2024-02-23T04:10:05.259001",
     "status": "completed"
    },
    "tags": []
   },
   "outputs": [
    {
     "name": "stderr",
     "output_type": "stream",
     "text": [
      "2024-02-23 04:10:12.499102: E external/local_xla/xla/stream_executor/cuda/cuda_dnn.cc:9261] Unable to register cuDNN factory: Attempting to register factory for plugin cuDNN when one has already been registered\n",
      "2024-02-23 04:10:12.499203: E external/local_xla/xla/stream_executor/cuda/cuda_fft.cc:607] Unable to register cuFFT factory: Attempting to register factory for plugin cuFFT when one has already been registered\n",
      "2024-02-23 04:10:12.633635: E external/local_xla/xla/stream_executor/cuda/cuda_blas.cc:1515] Unable to register cuBLAS factory: Attempting to register factory for plugin cuBLAS when one has already been registered\n"
     ]
    },
    {
     "data": {
      "application/vnd.jupyter.widget-view+json": {
       "model_id": "a34a7c99b4a149daaf81424c0e22f0f6",
       "version_major": 2,
       "version_minor": 0
      },
      "text/plain": [
       "tokenizer_config.json:   0%|          | 0.00/2.59k [00:00<?, ?B/s]"
      ]
     },
     "metadata": {},
     "output_type": "display_data"
    },
    {
     "data": {
      "application/vnd.jupyter.widget-view+json": {
       "model_id": "a875825ad8a64e3599ad44c1d91c3df0",
       "version_major": 2,
       "version_minor": 0
      },
      "text/plain": [
       "config.json:   0%|          | 0.00/721 [00:00<?, ?B/s]"
      ]
     },
     "metadata": {},
     "output_type": "display_data"
    },
    {
     "data": {
      "application/vnd.jupyter.widget-view+json": {
       "model_id": "c4d890efdcef41efabb3acdcef865430",
       "version_major": 2,
       "version_minor": 0
      },
      "text/plain": [
       "special_tokens_map.json:   0%|          | 0.00/2.50k [00:00<?, ?B/s]"
      ]
     },
     "metadata": {},
     "output_type": "display_data"
    },
    {
     "data": {
      "application/vnd.jupyter.widget-view+json": {
       "model_id": "476760046a7742dc8637c169b5b93f04",
       "version_major": 2,
       "version_minor": 0
      },
      "text/plain": [
       "pytorch_model.bin:   0%|          | 0.00/2.33G [00:00<?, ?B/s]"
      ]
     },
     "metadata": {},
     "output_type": "display_data"
    },
    {
     "name": "stderr",
     "output_type": "stream",
     "text": [
      "/opt/conda/lib/python3.10/site-packages/torch/_utils.py:831: UserWarning: TypedStorage is deprecated. It will be removed in the future and UntypedStorage will be the only storage class. This should only matter to you if you are using storages directly.  To access UntypedStorage directly, use tensor.untyped_storage() instead of tensor.storage()\n",
      "  return self.fget.__get__(instance, owner)()\n"
     ]
    },
    {
     "data": {
      "application/vnd.jupyter.widget-view+json": {
       "model_id": "0b8b6c49532d4c458cbdc7c7be463c52",
       "version_major": 2,
       "version_minor": 0
      },
      "text/plain": [
       "generation_config.json:   0%|          | 0.00/147 [00:00<?, ?B/s]"
      ]
     },
     "metadata": {},
     "output_type": "display_data"
    }
   ],
   "source": [
    "from transformers import AutoTokenizer, AutoModelForSeq2SeqLM, DataCollatorForSeq2Seq\n",
    "\n",
    "model_id = \"google/byt5-base\"\n",
    "tokenizer = AutoTokenizer.from_pretrained(model_id)\n",
    "model = AutoModelForSeq2SeqLM.from_pretrained(model_id)\n",
    "data_collator = DataCollatorForSeq2Seq(tokenizer)"
   ]
  },
  {
   "cell_type": "code",
   "execution_count": 8,
   "id": "259e3321",
   "metadata": {
    "execution": {
     "iopub.execute_input": "2024-02-23T04:10:50.313900Z",
     "iopub.status.busy": "2024-02-23T04:10:50.313214Z",
     "iopub.status.idle": "2024-02-23T04:11:19.089559Z",
     "shell.execute_reply": "2024-02-23T04:11:19.088640Z"
    },
    "papermill": {
     "duration": 28.788294,
     "end_time": "2024-02-23T04:11:19.091419",
     "exception": false,
     "start_time": "2024-02-23T04:10:50.303125",
     "status": "completed"
    },
    "tags": []
   },
   "outputs": [
    {
     "data": {
      "application/vnd.jupyter.widget-view+json": {
       "model_id": "2141f180ca0644af9accbe92443c35f4",
       "version_major": 2,
       "version_minor": 0
      },
      "text/plain": [
       "  0%|          | 0/52304 [00:00<?, ?ex/s]"
      ]
     },
     "metadata": {},
     "output_type": "display_data"
    },
    {
     "data": {
      "application/vnd.jupyter.widget-view+json": {
       "model_id": "9c91abda63b74cdd88d716917bdb4bc0",
       "version_major": 2,
       "version_minor": 0
      },
      "text/plain": [
       "  0%|          | 0/6 [00:00<?, ?ex/s]"
      ]
     },
     "metadata": {},
     "output_type": "display_data"
    }
   ],
   "source": [
    "def prepare_dataset(sample):\n",
    "    output = tokenizer(sample[\"Contents\"])\n",
    "    output[\"labels\"] = tokenizer(sample[\"IPA\"])['input_ids']\n",
    "    output[\"length\"] = len(output[\"labels\"])\n",
    "    return output\n",
    "\n",
    "\n",
    "ds_train = ds_train.map(prepare_dataset, remove_columns=ds_train.column_names)\n",
    "ds_eval = ds_eval.map(prepare_dataset, remove_columns=ds_eval.column_names)"
   ]
  },
  {
   "cell_type": "code",
   "execution_count": 9,
   "id": "f6f63763",
   "metadata": {
    "execution": {
     "iopub.execute_input": "2024-02-23T04:11:19.109561Z",
     "iopub.status.busy": "2024-02-23T04:11:19.109222Z",
     "iopub.status.idle": "2024-02-23T04:11:19.769397Z",
     "shell.execute_reply": "2024-02-23T04:11:19.768675Z"
    },
    "papermill": {
     "duration": 0.671819,
     "end_time": "2024-02-23T04:11:19.771653",
     "exception": false,
     "start_time": "2024-02-23T04:11:19.099834",
     "status": "completed"
    },
    "tags": []
   },
   "outputs": [
    {
     "data": {
      "application/vnd.jupyter.widget-view+json": {
       "model_id": "aafa129d8d554a14948ad36dd4e3b8a1",
       "version_major": 2,
       "version_minor": 0
      },
      "text/plain": [
       "Downloading builder script:   0%|          | 0.00/1.90k [00:00<?, ?B/s]"
      ]
     },
     "metadata": {},
     "output_type": "display_data"
    }
   ],
   "source": [
    "import numpy as np\n",
    "from datasets import load_metric\n",
    "\n",
    "wer_metric = load_metric(\"wer\")\n",
    "\n",
    "\n",
    "def compute_metrics(eval_preds):\n",
    "    preds, labels = eval_preds\n",
    "    \n",
    "    if isinstance(preds, tuple):\n",
    "        preds = preds[0]\n",
    "    \n",
    "    preds = np.where(preds != -100, preds, tokenizer.pad_token_id)\n",
    "    decoded_preds = tokenizer.batch_decode(preds, skip_special_tokens=True)\n",
    "\n",
    "    labels = np.where(labels != -100, labels, tokenizer.pad_token_id)\n",
    "    decoded_labels = tokenizer.batch_decode(labels, skip_special_tokens=True)\n",
    "\n",
    "    result = wer_metric.compute(predictions=decoded_preds, references=decoded_labels)\n",
    "    return {\"wer\": result}"
   ]
  },
  {
   "cell_type": "code",
   "execution_count": 10,
   "id": "1d7f1e87",
   "metadata": {
    "execution": {
     "iopub.execute_input": "2024-02-23T04:11:19.790191Z",
     "iopub.status.busy": "2024-02-23T04:11:19.789630Z",
     "iopub.status.idle": "2024-02-23T04:11:19.890477Z",
     "shell.execute_reply": "2024-02-23T04:11:19.889405Z"
    },
    "papermill": {
     "duration": 0.112737,
     "end_time": "2024-02-23T04:11:19.892990",
     "exception": false,
     "start_time": "2024-02-23T04:11:19.780253",
     "status": "completed"
    },
    "tags": []
   },
   "outputs": [],
   "source": [
    "from transformers import Seq2SeqTrainer, Seq2SeqTrainingArguments\n",
    "\n",
    "training_args = Seq2SeqTrainingArguments(\n",
    "    output_dir=\"./\",\n",
    "    group_by_length=True,\n",
    "    length_column_name=\"length\",\n",
    "    per_device_train_batch_size=2,\n",
    "    per_device_eval_batch_size=2,\n",
    "    gradient_accumulation_steps=2,\n",
    "    evaluation_strategy=\"steps\",\n",
    "    metric_for_best_model=\"wer\",\n",
    "    greater_is_better=False,\n",
    "    load_best_model_at_end=True,\n",
    "    num_train_epochs=1,\n",
    "    save_steps=13000,\n",
    "    eval_steps=13000,\n",
    "    logging_steps=13000,\n",
    "    learning_rate=1e-4,\n",
    "    weight_decay=5e-3,\n",
    "    warmup_steps=500,\n",
    "    save_total_limit=2,\n",
    "    predict_with_generate=True,\n",
    "    generation_max_length=512,\n",
    "    push_to_hub=False,\n",
    "    report_to=\"none\",\n",
    ")"
   ]
  },
  {
   "cell_type": "code",
   "execution_count": 11,
   "id": "5031a759",
   "metadata": {
    "execution": {
     "iopub.execute_input": "2024-02-23T04:11:19.912262Z",
     "iopub.status.busy": "2024-02-23T04:11:19.911460Z",
     "iopub.status.idle": "2024-02-23T05:56:54.067884Z",
     "shell.execute_reply": "2024-02-23T05:56:54.066947Z"
    },
    "papermill": {
     "duration": 6334.168139,
     "end_time": "2024-02-23T05:56:54.069916",
     "exception": false,
     "start_time": "2024-02-23T04:11:19.901777",
     "status": "completed"
    },
    "tags": []
   },
   "outputs": [
    {
     "data": {
      "text/html": [
       "\n",
       "    <div>\n",
       "      \n",
       "      <progress value='13076' max='13076' style='width:300px; height:20px; vertical-align: middle;'></progress>\n",
       "      [13076/13076 1:45:30, Epoch 1/1]\n",
       "    </div>\n",
       "    <table border=\"1\" class=\"dataframe\">\n",
       "  <thead>\n",
       " <tr style=\"text-align: left;\">\n",
       "      <th>Step</th>\n",
       "      <th>Training Loss</th>\n",
       "      <th>Validation Loss</th>\n",
       "      <th>Wer</th>\n",
       "    </tr>\n",
       "  </thead>\n",
       "  <tbody>\n",
       "    <tr>\n",
       "      <td>13000</td>\n",
       "      <td>0.121900</td>\n",
       "      <td>0.015848</td>\n",
       "      <td>0.000000</td>\n",
       "    </tr>\n",
       "  </tbody>\n",
       "</table><p>"
      ],
      "text/plain": [
       "<IPython.core.display.HTML object>"
      ]
     },
     "metadata": {},
     "output_type": "display_data"
    },
    {
     "name": "stderr",
     "output_type": "stream",
     "text": [
      "There were missing keys in the checkpoint model loaded: ['encoder.embed_tokens.weight', 'decoder.embed_tokens.weight'].\n"
     ]
    },
    {
     "data": {
      "text/plain": [
       "TrainOutput(global_step=13076, training_loss=0.12129524470506074, metrics={'train_runtime': 6332.9937, 'train_samples_per_second': 8.259, 'train_steps_per_second': 2.065, 'total_flos': 2.465348209355981e+16, 'train_loss': 0.12129524470506074, 'epoch': 1.0})"
      ]
     },
     "execution_count": 11,
     "metadata": {},
     "output_type": "execute_result"
    }
   ],
   "source": [
    "trainer = Seq2SeqTrainer(\n",
    "    model=model,\n",
    "    tokenizer=tokenizer,\n",
    "    args=training_args,\n",
    "    train_dataset=ds_train,\n",
    "    eval_dataset=ds_eval,\n",
    "    data_collator=data_collator,\n",
    "    compute_metrics=compute_metrics\n",
    ")\n",
    "\n",
    "trainer.train()"
   ]
  },
  {
   "cell_type": "code",
   "execution_count": 12,
   "id": "7deb3da7",
   "metadata": {
    "execution": {
     "iopub.execute_input": "2024-02-23T05:56:54.090330Z",
     "iopub.status.busy": "2024-02-23T05:56:54.089589Z",
     "iopub.status.idle": "2024-02-23T05:56:58.104640Z",
     "shell.execute_reply": "2024-02-23T05:56:58.103653Z"
    },
    "papermill": {
     "duration": 4.027964,
     "end_time": "2024-02-23T05:56:58.106996",
     "exception": false,
     "start_time": "2024-02-23T05:56:54.079032",
     "status": "completed"
    },
    "tags": []
   },
   "outputs": [],
   "source": [
    "trainer.save_model(model_id)"
   ]
  },
  {
   "cell_type": "code",
   "execution_count": 13,
   "id": "63e09495",
   "metadata": {
    "execution": {
     "iopub.execute_input": "2024-02-23T05:56:58.127165Z",
     "iopub.status.busy": "2024-02-23T05:56:58.126334Z",
     "iopub.status.idle": "2024-02-23T05:56:59.991954Z",
     "shell.execute_reply": "2024-02-23T05:56:59.991167Z"
    },
    "papermill": {
     "duration": 1.87796,
     "end_time": "2024-02-23T05:56:59.994169",
     "exception": false,
     "start_time": "2024-02-23T05:56:58.116209",
     "status": "completed"
    },
    "tags": []
   },
   "outputs": [],
   "source": [
    "import pandas as pd\n",
    "from transformers import pipeline"
   ]
  },
  {
   "cell_type": "code",
   "execution_count": 14,
   "id": "1a625959",
   "metadata": {
    "execution": {
     "iopub.execute_input": "2024-02-23T05:57:00.013594Z",
     "iopub.status.busy": "2024-02-23T05:57:00.013274Z",
     "iopub.status.idle": "2024-02-23T05:57:00.057103Z",
     "shell.execute_reply": "2024-02-23T05:57:00.056117Z"
    },
    "papermill": {
     "duration": 0.05598,
     "end_time": "2024-02-23T05:57:00.059377",
     "exception": false,
     "start_time": "2024-02-23T05:57:00.003397",
     "status": "completed"
    },
    "tags": []
   },
   "outputs": [],
   "source": [
    "test_df = pd.read_csv(\"/kaggle/input/regipa/test_regipa.csv\")"
   ]
  },
  {
   "cell_type": "code",
   "execution_count": 15,
   "id": "bcc53c3d",
   "metadata": {
    "execution": {
     "iopub.execute_input": "2024-02-23T05:57:00.078903Z",
     "iopub.status.busy": "2024-02-23T05:57:00.078577Z",
     "iopub.status.idle": "2024-02-23T05:57:01.698737Z",
     "shell.execute_reply": "2024-02-23T05:57:01.697720Z"
    },
    "papermill": {
     "duration": 1.632498,
     "end_time": "2024-02-23T05:57:01.701085",
     "exception": false,
     "start_time": "2024-02-23T05:57:00.068587",
     "status": "completed"
    },
    "tags": []
   },
   "outputs": [
    {
     "name": "stderr",
     "output_type": "stream",
     "text": [
      "Special tokens have been added in the vocabulary, make sure the associated word embeddings are fine-tuned or trained.\n"
     ]
    }
   ],
   "source": [
    "pipe = pipeline(\"text2text-generation\", model=model_id, device=0)"
   ]
  },
  {
   "cell_type": "code",
   "execution_count": 16,
   "id": "bf2046a3",
   "metadata": {
    "execution": {
     "iopub.execute_input": "2024-02-23T05:57:01.721643Z",
     "iopub.status.busy": "2024-02-23T05:57:01.721231Z",
     "iopub.status.idle": "2024-02-23T05:57:01.740487Z",
     "shell.execute_reply": "2024-02-23T05:57:01.739652Z"
    },
    "papermill": {
     "duration": 0.031893,
     "end_time": "2024-02-23T05:57:01.742707",
     "exception": false,
     "start_time": "2024-02-23T05:57:01.710814",
     "status": "completed"
    },
    "tags": []
   },
   "outputs": [],
   "source": [
    "# preprocess-1: sort by length\n",
    "index = test_df[\"Contents\"].str.len().sort_values(ascending=False).index\n",
    "test_df = test_df.reindex(index)"
   ]
  },
  {
   "cell_type": "code",
   "execution_count": 17,
   "id": "42a1ad12",
   "metadata": {
    "execution": {
     "iopub.execute_input": "2024-02-23T05:57:01.764115Z",
     "iopub.status.busy": "2024-02-23T05:57:01.763783Z",
     "iopub.status.idle": "2024-02-23T05:57:01.783082Z",
     "shell.execute_reply": "2024-02-23T05:57:01.782075Z"
    },
    "papermill": {
     "duration": 0.032042,
     "end_time": "2024-02-23T05:57:01.785026",
     "exception": false,
     "start_time": "2024-02-23T05:57:01.752984",
     "status": "completed"
    },
    "tags": []
   },
   "outputs": [],
   "source": [
    "# preprocess-2: removing english alphabets\n",
    "alpha_pat = \"[a-zA-Z]\"\n",
    "test_df[\"Contents\"] = test_df[\"Contents\"].str.replace(alpha_pat, \"\", regex=True)"
   ]
  },
  {
   "cell_type": "code",
   "execution_count": 18,
   "id": "e6a50315",
   "metadata": {
    "execution": {
     "iopub.execute_input": "2024-02-23T05:57:01.804977Z",
     "iopub.status.busy": "2024-02-23T05:57:01.804667Z",
     "iopub.status.idle": "2024-02-23T05:57:01.823492Z",
     "shell.execute_reply": "2024-02-23T05:57:01.822697Z"
    },
    "papermill": {
     "duration": 0.03106,
     "end_time": "2024-02-23T05:57:01.825520",
     "exception": false,
     "start_time": "2024-02-23T05:57:01.794460",
     "status": "completed"
    },
    "tags": []
   },
   "outputs": [],
   "source": [
    "# preprocess-3: adding period at the end of those texts not having period or '।'\n",
    "indices_to_add_period = test_df[~test_df['Contents'].str.endswith('।')].index\n",
    "test_df.loc[indices_to_add_period, 'Contents'] += '।'"
   ]
  },
  {
   "cell_type": "code",
   "execution_count": 19,
   "id": "13190a2e",
   "metadata": {
    "execution": {
     "iopub.execute_input": "2024-02-23T05:57:01.846118Z",
     "iopub.status.busy": "2024-02-23T05:57:01.845822Z",
     "iopub.status.idle": "2024-02-23T06:03:51.438450Z",
     "shell.execute_reply": "2024-02-23T06:03:51.437486Z"
    },
    "papermill": {
     "duration": 409.614122,
     "end_time": "2024-02-23T06:03:51.449599",
     "exception": false,
     "start_time": "2024-02-23T05:57:01.835477",
     "status": "completed"
    },
    "tags": []
   },
   "outputs": [
    {
     "name": "stdout",
     "output_type": "stream",
     "text": [
      "CPU times: user 6min 49s, sys: 703 ms, total: 6min 49s\n",
      "Wall time: 6min 49s\n"
     ]
    }
   ],
   "source": [
    "%%time\n",
    "texts = test_df[\"Contents\"].tolist()\n",
    "ipas = pipe(texts, max_length=512, batch_size=64)\n",
    "ipas = [ipa[\"generated_text\"] for ipa in ipas]"
   ]
  },
  {
   "cell_type": "code",
   "execution_count": 20,
   "id": "d720049a",
   "metadata": {
    "execution": {
     "iopub.execute_input": "2024-02-23T06:03:51.470646Z",
     "iopub.status.busy": "2024-02-23T06:03:51.469796Z",
     "iopub.status.idle": "2024-02-23T06:03:51.480147Z",
     "shell.execute_reply": "2024-02-23T06:03:51.479147Z"
    },
    "papermill": {
     "duration": 0.022907,
     "end_time": "2024-02-23T06:03:51.482100",
     "exception": false,
     "start_time": "2024-02-23T06:03:51.459193",
     "status": "completed"
    },
    "tags": []
   },
   "outputs": [],
   "source": [
    "# postprocess-1\n",
    "test_df[\"IPA\"] = ipas\n",
    "test_df = test_df.sort_index()"
   ]
  },
  {
   "cell_type": "code",
   "execution_count": 21,
   "id": "79a70735",
   "metadata": {
    "execution": {
     "iopub.execute_input": "2024-02-23T06:03:51.502458Z",
     "iopub.status.busy": "2024-02-23T06:03:51.501923Z",
     "iopub.status.idle": "2024-02-23T06:03:51.518876Z",
     "shell.execute_reply": "2024-02-23T06:03:51.517857Z"
    },
    "papermill": {
     "duration": 0.02908,
     "end_time": "2024-02-23T06:03:51.520721",
     "exception": false,
     "start_time": "2024-02-23T06:03:51.491641",
     "status": "completed"
    },
    "tags": []
   },
   "outputs": [
    {
     "data": {
      "text/html": [
       "<div>\n",
       "<style scoped>\n",
       "    .dataframe tbody tr th:only-of-type {\n",
       "        vertical-align: middle;\n",
       "    }\n",
       "\n",
       "    .dataframe tbody tr th {\n",
       "        vertical-align: top;\n",
       "    }\n",
       "\n",
       "    .dataframe thead th {\n",
       "        text-align: right;\n",
       "    }\n",
       "</style>\n",
       "<table border=\"1\" class=\"dataframe\">\n",
       "  <thead>\n",
       "    <tr style=\"text-align: right;\">\n",
       "      <th></th>\n",
       "      <th>Index</th>\n",
       "      <th>District</th>\n",
       "      <th>Contents</th>\n",
       "      <th>IPA</th>\n",
       "    </tr>\n",
       "  </thead>\n",
       "  <tbody>\n",
       "    <tr>\n",
       "      <th>0</th>\n",
       "      <td>0</td>\n",
       "      <td>Rangpur</td>\n",
       "      <td>এলা সবায় সবার  হাতোত &lt;&gt; অসহায় মানুষ আচে?।</td>\n",
       "      <td>elɐ ʃɔbɐe̯ ʃɔbɐɾ  hɐt̪ot̪ &lt;&gt; ɔʃohɐe̯ mɐnuʃ ɐce?</td>\n",
       "    </tr>\n",
       "    <tr>\n",
       "      <th>1</th>\n",
       "      <td>1</td>\n",
       "      <td>Rangpur</td>\n",
       "      <td>কেউ কারো ইয়া নাই।</td>\n",
       "      <td>ke͡u̯ kɐɾo ɪʲɐ nɐ͡ɪ̯।</td>\n",
       "    </tr>\n",
       "    <tr>\n",
       "      <th>2</th>\n",
       "      <td>2</td>\n",
       "      <td>Rangpur</td>\n",
       "      <td>এলা ওই যে, কাইলকা ব্যাটায় ইপতারি আনচে, খাইচোং,...</td>\n",
       "      <td>elɐ o͡ɪ̯ ɟe, kɐ͡ɪ̯lkɐ bɛtɐe̯ ɪpot̪ɐɾɪ ɐnce, kʰ...</td>\n",
       "    </tr>\n",
       "    <tr>\n",
       "      <th>3</th>\n",
       "      <td>3</td>\n",
       "      <td>Rangpur</td>\n",
       "      <td>আর মুই আগোত কী করচিনু?।</td>\n",
       "      <td>ɐɾ mu͡ɪ̯ ɐgot̪ kɪ koɾcɪnu?</td>\n",
       "    </tr>\n",
       "    <tr>\n",
       "      <th>4</th>\n",
       "      <td>4</td>\n",
       "      <td>Rangpur</td>\n",
       "      <td>&lt;&gt; আগের কতা বাদ দেও, এলা নাই।</td>\n",
       "      <td>&lt;&gt; ɐgeɾ kɔt̪ɐ bɐd̪ d̪e͡o̯, elɐ nɐ͡ɪ̯।</td>\n",
       "    </tr>\n",
       "  </tbody>\n",
       "</table>\n",
       "</div>"
      ],
      "text/plain": [
       "   Index District                                           Contents  \\\n",
       "0      0  Rangpur          এলা সবায় সবার  হাতোত <> অসহায় মানুষ আচে?।   \n",
       "1      1  Rangpur                                  কেউ কারো ইয়া নাই।   \n",
       "2      2  Rangpur  এলা ওই যে, কাইলকা ব্যাটায় ইপতারি আনচে, খাইচোং,...   \n",
       "3      3  Rangpur                            আর মুই আগোত কী করচিনু?।   \n",
       "4      4  Rangpur                      <> আগের কতা বাদ দেও, এলা নাই।   \n",
       "\n",
       "                                                 IPA  \n",
       "0    elɐ ʃɔbɐe̯ ʃɔbɐɾ  hɐt̪ot̪ <> ɔʃohɐe̯ mɐnuʃ ɐce?  \n",
       "1                              ke͡u̯ kɐɾo ɪʲɐ nɐ͡ɪ̯।  \n",
       "2  elɐ o͡ɪ̯ ɟe, kɐ͡ɪ̯lkɐ bɛtɐe̯ ɪpot̪ɐɾɪ ɐnce, kʰ...  \n",
       "3                         ɐɾ mu͡ɪ̯ ɐgot̪ kɪ koɾcɪnu?  \n",
       "4              <> ɐgeɾ kɔt̪ɐ bɐd̪ d̪e͡o̯, elɐ nɐ͡ɪ̯।  "
      ]
     },
     "execution_count": 21,
     "metadata": {},
     "output_type": "execute_result"
    }
   ],
   "source": [
    "# postprocess-2: removing period from the end of those ipas in which texts period were added in preprocess-3\n",
    "test_df.loc[indices_to_add_period, 'IPA'] = test_df.loc[indices_to_add_period, 'IPA'].str.rstrip('।')\n",
    "test_df.head()"
   ]
  },
  {
   "cell_type": "code",
   "execution_count": null,
   "id": "675c5095",
   "metadata": {
    "papermill": {
     "duration": 0.009885,
     "end_time": "2024-02-23T06:03:51.540460",
     "exception": false,
     "start_time": "2024-02-23T06:03:51.530575",
     "status": "completed"
    },
    "tags": []
   },
   "outputs": [],
   "source": []
  },
  {
   "cell_type": "code",
   "execution_count": 22,
   "id": "f444e616",
   "metadata": {
    "execution": {
     "iopub.execute_input": "2024-02-23T06:03:51.561675Z",
     "iopub.status.busy": "2024-02-23T06:03:51.561296Z",
     "iopub.status.idle": "2024-02-23T06:03:51.597413Z",
     "shell.execute_reply": "2024-02-23T06:03:51.596584Z"
    },
    "papermill": {
     "duration": 0.049078,
     "end_time": "2024-02-23T06:03:51.599517",
     "exception": false,
     "start_time": "2024-02-23T06:03:51.550439",
     "status": "completed"
    },
    "tags": []
   },
   "outputs": [],
   "source": [
    "test_df.to_csv(\"submission2.csv\", columns=[\"IPA\"])"
   ]
  },
  {
   "cell_type": "code",
   "execution_count": 23,
   "id": "b72cba3b",
   "metadata": {
    "execution": {
     "iopub.execute_input": "2024-02-23T06:03:51.620822Z",
     "iopub.status.busy": "2024-02-23T06:03:51.620521Z",
     "iopub.status.idle": "2024-02-23T06:03:51.647667Z",
     "shell.execute_reply": "2024-02-23T06:03:51.646597Z"
    },
    "papermill": {
     "duration": 0.040145,
     "end_time": "2024-02-23T06:03:51.649685",
     "exception": false,
     "start_time": "2024-02-23T06:03:51.609540",
     "status": "completed"
    },
    "tags": []
   },
   "outputs": [
    {
     "name": "stdout",
     "output_type": "stream",
     "text": [
      "\n",
      "DataFrame after renaming columns:\n",
      "        id                                             string\n",
      "0        0    elɐ ʃɔbɐe̯ ʃɔbɐɾ  hɐt̪ot̪ <> ɔʃohɐe̯ mɐnuʃ ɐce?\n",
      "1        1                              ke͡u̯ kɐɾo ɪʲɐ nɐ͡ɪ̯।\n",
      "2        2  elɐ o͡ɪ̯ ɟe, kɐ͡ɪ̯lkɐ bɛtɐe̯ ɪpot̪ɐɾɪ ɐnce, kʰ...\n",
      "3        3                         ɐɾ mu͡ɪ̯ ɐgot̪ kɪ koɾcɪnu?\n",
      "4        4              <> ɐgeɾ kɔt̪ɐ bɐd̪ d̪e͡o̯, elɐ nɐ͡ɪ̯।\n",
      "...    ...                                                ...\n",
      "8936  8936           pɔɾe pʰɾedɪ t̪ɔkʰon puɾɐ bʱɐ͡ɪ̯ŋgɐ pɔɾe।\n",
      "8937  8937  ɐɾ pʰɾedɪɾ ʃɐt̪ʰe ɐɾo kɪcʰu mɐnuʃeɾ poɾɪcɔe̯ h...\n",
      "8938  8938  ɟe ɟɐɾɐ ɐʃole o͡ɪ̯ ɟɐɾɐ elbɐm ɾɪlɪɟ d̪ee̯ o͡ɪ̯...\n",
      "8939  8939  ɟɐɾɐ ɐʃole pʰɾedɪɾ e͡ɪ̯ ɟɔnopɾɪʲot̪ɐdɐ ɐʃole t...\n",
      "8940  8940                       t̪ɐɾɐ cɐ͡ɪ̯cʰɪlo pʰɾedɪ ɟɐnɪ\n",
      "\n",
      "[8941 rows x 2 columns]\n"
     ]
    }
   ],
   "source": [
    "df = pd.read_csv('/kaggle/working/submission2.csv')\n",
    "\n",
    "\n",
    "# Check if there's any unnamed column\n",
    "unnamed_columns = [col for col in df.columns if 'Unnamed' in col]\n",
    "\n",
    "if unnamed_columns:\n",
    "    # Rename the first unnamed column to a desired name\n",
    "    new_name = 'id'  # Specify your desired name here\n",
    "    old_name = unnamed_columns[0]\n",
    "    df.rename(columns={old_name: new_name}, inplace=True)\n",
    "\n",
    "\n",
    "# Display the DataFrame after renaming the columns\n",
    "print(\"\\nDataFrame after renaming columns:\")\n",
    "df.rename(columns={'IPA': 'string'}, inplace=True)\n",
    "print(df)\n"
   ]
  },
  {
   "cell_type": "code",
   "execution_count": 24,
   "id": "8c1886e5",
   "metadata": {
    "execution": {
     "iopub.execute_input": "2024-02-23T06:03:51.671032Z",
     "iopub.status.busy": "2024-02-23T06:03:51.670730Z",
     "iopub.status.idle": "2024-02-23T06:03:51.678987Z",
     "shell.execute_reply": "2024-02-23T06:03:51.678128Z"
    },
    "papermill": {
     "duration": 0.02097,
     "end_time": "2024-02-23T06:03:51.680860",
     "exception": false,
     "start_time": "2024-02-23T06:03:51.659890",
     "status": "completed"
    },
    "tags": []
   },
   "outputs": [
    {
     "data": {
      "text/plain": [
       "id        0\n",
       "string    0\n",
       "dtype: int64"
      ]
     },
     "execution_count": 24,
     "metadata": {},
     "output_type": "execute_result"
    }
   ],
   "source": [
    "df.isnull().sum()"
   ]
  },
  {
   "cell_type": "code",
   "execution_count": 25,
   "id": "b8f11d30",
   "metadata": {
    "execution": {
     "iopub.execute_input": "2024-02-23T06:03:51.702913Z",
     "iopub.status.busy": "2024-02-23T06:03:51.702615Z",
     "iopub.status.idle": "2024-02-23T06:03:51.710201Z",
     "shell.execute_reply": "2024-02-23T06:03:51.709228Z"
    },
    "papermill": {
     "duration": 0.020957,
     "end_time": "2024-02-23T06:03:51.712336",
     "exception": false,
     "start_time": "2024-02-23T06:03:51.691379",
     "status": "completed"
    },
    "tags": []
   },
   "outputs": [
    {
     "name": "stdout",
     "output_type": "stream",
     "text": [
      "Rows with null values:\n",
      "Empty DataFrame\n",
      "Columns: [id, string]\n",
      "Index: []\n"
     ]
    }
   ],
   "source": [
    "null_rows = df[df.isnull().any(axis=1)]\n",
    "print(\"Rows with null values:\")\n",
    "print(null_rows)"
   ]
  },
  {
   "cell_type": "code",
   "execution_count": 26,
   "id": "add49e22",
   "metadata": {
    "execution": {
     "iopub.execute_input": "2024-02-23T06:03:51.734976Z",
     "iopub.status.busy": "2024-02-23T06:03:51.734689Z",
     "iopub.status.idle": "2024-02-23T06:03:51.742736Z",
     "shell.execute_reply": "2024-02-23T06:03:51.741976Z"
    },
    "papermill": {
     "duration": 0.021795,
     "end_time": "2024-02-23T06:03:51.745184",
     "exception": false,
     "start_time": "2024-02-23T06:03:51.723389",
     "status": "completed"
    },
    "tags": []
   },
   "outputs": [
    {
     "name": "stdout",
     "output_type": "stream",
     "text": [
      "        id                                             string\n",
      "0        0    elɐ ʃɔbɐe̯ ʃɔbɐɾ  hɐt̪ot̪ <> ɔʃohɐe̯ mɐnuʃ ɐce?\n",
      "1        1                              ke͡u̯ kɐɾo ɪʲɐ nɐ͡ɪ̯।\n",
      "2        2  elɐ o͡ɪ̯ ɟe, kɐ͡ɪ̯lkɐ bɛtɐe̯ ɪpot̪ɐɾɪ ɐnce, kʰ...\n",
      "3        3                         ɐɾ mu͡ɪ̯ ɐgot̪ kɪ koɾcɪnu?\n",
      "4        4              <> ɐgeɾ kɔt̪ɐ bɐd̪ d̪e͡o̯, elɐ nɐ͡ɪ̯।\n",
      "...    ...                                                ...\n",
      "8936  8936           pɔɾe pʰɾedɪ t̪ɔkʰon puɾɐ bʱɐ͡ɪ̯ŋgɐ pɔɾe।\n",
      "8937  8937  ɐɾ pʰɾedɪɾ ʃɐt̪ʰe ɐɾo kɪcʰu mɐnuʃeɾ poɾɪcɔe̯ h...\n",
      "8938  8938  ɟe ɟɐɾɐ ɐʃole o͡ɪ̯ ɟɐɾɐ elbɐm ɾɪlɪɟ d̪ee̯ o͡ɪ̯...\n",
      "8939  8939  ɟɐɾɐ ɐʃole pʰɾedɪɾ e͡ɪ̯ ɟɔnopɾɪʲot̪ɐdɐ ɐʃole t...\n",
      "8940  8940                       t̪ɐɾɐ cɐ͡ɪ̯cʰɪlo pʰɾedɪ ɟɐnɪ\n",
      "\n",
      "[8941 rows x 2 columns]\n"
     ]
    }
   ],
   "source": [
    "df_filled = df.fillna('missing')\n",
    "print(df_filled)"
   ]
  },
  {
   "cell_type": "code",
   "execution_count": 27,
   "id": "41262e15",
   "metadata": {
    "execution": {
     "iopub.execute_input": "2024-02-23T06:03:51.768069Z",
     "iopub.status.busy": "2024-02-23T06:03:51.767798Z",
     "iopub.status.idle": "2024-02-23T06:03:51.802033Z",
     "shell.execute_reply": "2024-02-23T06:03:51.800993Z"
    },
    "papermill": {
     "duration": 0.048089,
     "end_time": "2024-02-23T06:03:51.804316",
     "exception": false,
     "start_time": "2024-02-23T06:03:51.756227",
     "status": "completed"
    },
    "tags": []
   },
   "outputs": [],
   "source": [
    "df_filled.to_csv('submission.csv', index=False)"
   ]
  }
 ],
 "metadata": {
  "kaggle": {
   "accelerator": "gpu",
   "dataSources": [
    {
     "databundleVersionId": 7743921,
     "sourceId": 70573,
     "sourceType": "competition"
    },
    {
     "datasetId": 4478887,
     "sourceId": 7677705,
     "sourceType": "datasetVersion"
    },
    {
     "datasetId": 4480734,
     "sourceId": 7680174,
     "sourceType": "datasetVersion"
    }
   ],
   "dockerImageVersionId": 30648,
   "isGpuEnabled": true,
   "isInternetEnabled": true,
   "language": "python",
   "sourceType": "notebook"
  },
  "kernelspec": {
   "display_name": "Python 3",
   "language": "python",
   "name": "python3"
  },
  "language_info": {
   "codemirror_mode": {
    "name": "ipython",
    "version": 3
   },
   "file_extension": ".py",
   "mimetype": "text/x-python",
   "name": "python",
   "nbconvert_exporter": "python",
   "pygments_lexer": "ipython3",
   "version": "3.10.13"
  },
  "papermill": {
   "default_parameters": {},
   "duration": 6849.200032,
   "end_time": "2024-02-23T06:03:54.768556",
   "environment_variables": {},
   "exception": null,
   "input_path": "__notebook__.ipynb",
   "output_path": "__notebook__.ipynb",
   "parameters": {},
   "start_time": "2024-02-23T04:09:45.568524",
   "version": "2.5.0"
  },
  "widgets": {
   "application/vnd.jupyter.widget-state+json": {
    "state": {
     "01bc2aa3b925448fa7d4181b1f867ea7": {
      "model_module": "@jupyter-widgets/controls",
      "model_module_version": "1.5.0",
      "model_name": "FloatProgressModel",
      "state": {
       "_dom_classes": [],
       "_model_module": "@jupyter-widgets/controls",
       "_model_module_version": "1.5.0",
       "_model_name": "FloatProgressModel",
       "_view_count": null,
       "_view_module": "@jupyter-widgets/controls",
       "_view_module_version": "1.5.0",
       "_view_name": "ProgressView",
       "bar_style": "success",
       "description": "",
       "description_tooltip": null,
       "layout": "IPY_MODEL_720a8ee98c074507a7937d1924f8ba89",
       "max": 721.0,
       "min": 0.0,
       "orientation": "horizontal",
       "style": "IPY_MODEL_67489c1c0a4b493b914d287462f3a477",
       "value": 721.0
      }
     },
     "0264c028d7fc42bda32c4ce5f4c2e9ff": {
      "model_module": "@jupyter-widgets/controls",
      "model_module_version": "1.5.0",
      "model_name": "HTMLModel",
      "state": {
       "_dom_classes": [],
       "_model_module": "@jupyter-widgets/controls",
       "_model_module_version": "1.5.0",
       "_model_name": "HTMLModel",
       "_view_count": null,
       "_view_module": "@jupyter-widgets/controls",
       "_view_module_version": "1.5.0",
       "_view_name": "HTMLView",
       "description": "",
       "description_tooltip": null,
       "layout": "IPY_MODEL_df2db46eefda4df6b6816f746789b3eb",
       "placeholder": "​",
       "style": "IPY_MODEL_5253458dcdf44b069cf09873d4ece75a",
       "value": " 147/147 [00:00&lt;00:00, 12.9kB/s]"
      }
     },
     "086c4cc1b8c14b85a13371c7abe5d581": {
      "model_module": "@jupyter-widgets/controls",
      "model_module_version": "1.5.0",
      "model_name": "ProgressStyleModel",
      "state": {
       "_model_module": "@jupyter-widgets/controls",
       "_model_module_version": "1.5.0",
       "_model_name": "ProgressStyleModel",
       "_view_count": null,
       "_view_module": "@jupyter-widgets/base",
       "_view_module_version": "1.2.0",
       "_view_name": "StyleView",
       "bar_color": null,
       "description_width": ""
      }
     },
     "0b8b6c49532d4c458cbdc7c7be463c52": {
      "model_module": "@jupyter-widgets/controls",
      "model_module_version": "1.5.0",
      "model_name": "HBoxModel",
      "state": {
       "_dom_classes": [],
       "_model_module": "@jupyter-widgets/controls",
       "_model_module_version": "1.5.0",
       "_model_name": "HBoxModel",
       "_view_count": null,
       "_view_module": "@jupyter-widgets/controls",
       "_view_module_version": "1.5.0",
       "_view_name": "HBoxView",
       "box_style": "",
       "children": [
        "IPY_MODEL_8d1a20cc8adc44f0920ba5c278189b71",
        "IPY_MODEL_423b84fca06d4d54ac28ee87949f431d",
        "IPY_MODEL_0264c028d7fc42bda32c4ce5f4c2e9ff"
       ],
       "layout": "IPY_MODEL_fff631dde5e24b109c93ebe801e842d8"
      }
     },
     "0e6f733053fe47219634bca35ab3afc3": {
      "model_module": "@jupyter-widgets/controls",
      "model_module_version": "1.5.0",
      "model_name": "HTMLModel",
      "state": {
       "_dom_classes": [],
       "_model_module": "@jupyter-widgets/controls",
       "_model_module_version": "1.5.0",
       "_model_name": "HTMLModel",
       "_view_count": null,
       "_view_module": "@jupyter-widgets/controls",
       "_view_module_version": "1.5.0",
       "_view_name": "HTMLView",
       "description": "",
       "description_tooltip": null,
       "layout": "IPY_MODEL_ac7d3f4fcf33464ea373ea76dd8c88e8",
       "placeholder": "​",
       "style": "IPY_MODEL_853703944ad74fa0a7bf44dbb23a4ad0",
       "value": " 721/721 [00:00&lt;00:00, 68.7kB/s]"
      }
     },
     "133967a9161b4e9e9e0c9c8f60f4f29c": {
      "model_module": "@jupyter-widgets/base",
      "model_module_version": "1.2.0",
      "model_name": "LayoutModel",
      "state": {
       "_model_module": "@jupyter-widgets/base",
       "_model_module_version": "1.2.0",
       "_model_name": "LayoutModel",
       "_view_count": null,
       "_view_module": "@jupyter-widgets/base",
       "_view_module_version": "1.2.0",
       "_view_name": "LayoutView",
       "align_content": null,
       "align_items": null,
       "align_self": null,
       "border": null,
       "bottom": null,
       "display": null,
       "flex": null,
       "flex_flow": null,
       "grid_area": null,
       "grid_auto_columns": null,
       "grid_auto_flow": null,
       "grid_auto_rows": null,
       "grid_column": null,
       "grid_gap": null,
       "grid_row": null,
       "grid_template_areas": null,
       "grid_template_columns": null,
       "grid_template_rows": null,
       "height": null,
       "justify_content": null,
       "justify_items": null,
       "left": null,
       "margin": null,
       "max_height": null,
       "max_width": null,
       "min_height": null,
       "min_width": null,
       "object_fit": null,
       "object_position": null,
       "order": null,
       "overflow": null,
       "overflow_x": null,
       "overflow_y": null,
       "padding": null,
       "right": null,
       "top": null,
       "visibility": null,
       "width": null
      }
     },
     "17ed002d58d243778e8a18224cc086bb": {
      "model_module": "@jupyter-widgets/controls",
      "model_module_version": "1.5.0",
      "model_name": "FloatProgressModel",
      "state": {
       "_dom_classes": [],
       "_model_module": "@jupyter-widgets/controls",
       "_model_module_version": "1.5.0",
       "_model_name": "FloatProgressModel",
       "_view_count": null,
       "_view_module": "@jupyter-widgets/controls",
       "_view_module_version": "1.5.0",
       "_view_name": "ProgressView",
       "bar_style": "success",
       "description": "",
       "description_tooltip": null,
       "layout": "IPY_MODEL_96916345e48b4be9b0e80e32f091aaeb",
       "max": 2593.0,
       "min": 0.0,
       "orientation": "horizontal",
       "style": "IPY_MODEL_42ca4edccba647d0aa92159662695105",
       "value": 2593.0
      }
     },
     "1b734dee5e2d4905af8ab74218212f14": {
      "model_module": "@jupyter-widgets/controls",
      "model_module_version": "1.5.0",
      "model_name": "HTMLModel",
      "state": {
       "_dom_classes": [],
       "_model_module": "@jupyter-widgets/controls",
       "_model_module_version": "1.5.0",
       "_model_name": "HTMLModel",
       "_view_count": null,
       "_view_module": "@jupyter-widgets/controls",
       "_view_module_version": "1.5.0",
       "_view_name": "HTMLView",
       "description": "",
       "description_tooltip": null,
       "layout": "IPY_MODEL_133967a9161b4e9e9e0c9c8f60f4f29c",
       "placeholder": "​",
       "style": "IPY_MODEL_9f97a7ce08374877bfacdc05a8d257f9",
       "value": "special_tokens_map.json: 100%"
      }
     },
     "1f7fa52108444a93af4cebadd4415465": {
      "model_module": "@jupyter-widgets/base",
      "model_module_version": "1.2.0",
      "model_name": "LayoutModel",
      "state": {
       "_model_module": "@jupyter-widgets/base",
       "_model_module_version": "1.2.0",
       "_model_name": "LayoutModel",
       "_view_count": null,
       "_view_module": "@jupyter-widgets/base",
       "_view_module_version": "1.2.0",
       "_view_name": "LayoutView",
       "align_content": null,
       "align_items": null,
       "align_self": null,
       "border": null,
       "bottom": null,
       "display": null,
       "flex": null,
       "flex_flow": null,
       "grid_area": null,
       "grid_auto_columns": null,
       "grid_auto_flow": null,
       "grid_auto_rows": null,
       "grid_column": null,
       "grid_gap": null,
       "grid_row": null,
       "grid_template_areas": null,
       "grid_template_columns": null,
       "grid_template_rows": null,
       "height": null,
       "justify_content": null,
       "justify_items": null,
       "left": null,
       "margin": null,
       "max_height": null,
       "max_width": null,
       "min_height": null,
       "min_width": null,
       "object_fit": null,
       "object_position": null,
       "order": null,
       "overflow": null,
       "overflow_x": null,
       "overflow_y": null,
       "padding": null,
       "right": null,
       "top": null,
       "visibility": null,
       "width": null
      }
     },
     "20849dbb42a947a9b40b5a3df9931ab2": {
      "model_module": "@jupyter-widgets/controls",
      "model_module_version": "1.5.0",
      "model_name": "FloatProgressModel",
      "state": {
       "_dom_classes": [],
       "_model_module": "@jupyter-widgets/controls",
       "_model_module_version": "1.5.0",
       "_model_name": "FloatProgressModel",
       "_view_count": null,
       "_view_module": "@jupyter-widgets/controls",
       "_view_module_version": "1.5.0",
       "_view_name": "ProgressView",
       "bar_style": "success",
       "description": "",
       "description_tooltip": null,
       "layout": "IPY_MODEL_de4c5533e5bb4250a20f7fa01ff0cf3a",
       "max": 2326727132.0,
       "min": 0.0,
       "orientation": "horizontal",
       "style": "IPY_MODEL_f168da31393b41ecae8c35851831a1bf",
       "value": 2326727132.0
      }
     },
     "2141f180ca0644af9accbe92443c35f4": {
      "model_module": "@jupyter-widgets/controls",
      "model_module_version": "1.5.0",
      "model_name": "HBoxModel",
      "state": {
       "_dom_classes": [],
       "_model_module": "@jupyter-widgets/controls",
       "_model_module_version": "1.5.0",
       "_model_name": "HBoxModel",
       "_view_count": null,
       "_view_module": "@jupyter-widgets/controls",
       "_view_module_version": "1.5.0",
       "_view_name": "HBoxView",
       "box_style": "",
       "children": [
        "IPY_MODEL_77ce49cd7f7244d69e7b07508fac47da",
        "IPY_MODEL_64e9cf20227d4d229c71d22d4ccc44bd",
        "IPY_MODEL_9f8ecfe286274faeb4a67c3362d4361e"
       ],
       "layout": "IPY_MODEL_83ce6720350c4bacbef3702612198484"
      }
     },
     "25f20929f70648c19ef70f64b454b393": {
      "model_module": "@jupyter-widgets/base",
      "model_module_version": "1.2.0",
      "model_name": "LayoutModel",
      "state": {
       "_model_module": "@jupyter-widgets/base",
       "_model_module_version": "1.2.0",
       "_model_name": "LayoutModel",
       "_view_count": null,
       "_view_module": "@jupyter-widgets/base",
       "_view_module_version": "1.2.0",
       "_view_name": "LayoutView",
       "align_content": null,
       "align_items": null,
       "align_self": null,
       "border": null,
       "bottom": null,
       "display": null,
       "flex": null,
       "flex_flow": null,
       "grid_area": null,
       "grid_auto_columns": null,
       "grid_auto_flow": null,
       "grid_auto_rows": null,
       "grid_column": null,
       "grid_gap": null,
       "grid_row": null,
       "grid_template_areas": null,
       "grid_template_columns": null,
       "grid_template_rows": null,
       "height": null,
       "justify_content": null,
       "justify_items": null,
       "left": null,
       "margin": null,
       "max_height": null,
       "max_width": null,
       "min_height": null,
       "min_width": null,
       "object_fit": null,
       "object_position": null,
       "order": null,
       "overflow": null,
       "overflow_x": null,
       "overflow_y": null,
       "padding": null,
       "right": null,
       "top": null,
       "visibility": null,
       "width": null
      }
     },
     "2e6331521329416abcee524855ee8f28": {
      "model_module": "@jupyter-widgets/controls",
      "model_module_version": "1.5.0",
      "model_name": "FloatProgressModel",
      "state": {
       "_dom_classes": [],
       "_model_module": "@jupyter-widgets/controls",
       "_model_module_version": "1.5.0",
       "_model_name": "FloatProgressModel",
       "_view_count": null,
       "_view_module": "@jupyter-widgets/controls",
       "_view_module_version": "1.5.0",
       "_view_name": "ProgressView",
       "bar_style": "success",
       "description": "",
       "description_tooltip": null,
       "layout": "IPY_MODEL_3d4866bb87884511aa405161108624e2",
       "max": 6.0,
       "min": 0.0,
       "orientation": "horizontal",
       "style": "IPY_MODEL_78df60128873456e80b137e49ac2f1ec",
       "value": 6.0
      }
     },
     "2f748fd8fea448cfbabb793d57e3b1d6": {
      "model_module": "@jupyter-widgets/base",
      "model_module_version": "1.2.0",
      "model_name": "LayoutModel",
      "state": {
       "_model_module": "@jupyter-widgets/base",
       "_model_module_version": "1.2.0",
       "_model_name": "LayoutModel",
       "_view_count": null,
       "_view_module": "@jupyter-widgets/base",
       "_view_module_version": "1.2.0",
       "_view_name": "LayoutView",
       "align_content": null,
       "align_items": null,
       "align_self": null,
       "border": null,
       "bottom": null,
       "display": null,
       "flex": null,
       "flex_flow": null,
       "grid_area": null,
       "grid_auto_columns": null,
       "grid_auto_flow": null,
       "grid_auto_rows": null,
       "grid_column": null,
       "grid_gap": null,
       "grid_row": null,
       "grid_template_areas": null,
       "grid_template_columns": null,
       "grid_template_rows": null,
       "height": null,
       "justify_content": null,
       "justify_items": null,
       "left": null,
       "margin": null,
       "max_height": null,
       "max_width": null,
       "min_height": null,
       "min_width": null,
       "object_fit": null,
       "object_position": null,
       "order": null,
       "overflow": null,
       "overflow_x": null,
       "overflow_y": null,
       "padding": null,
       "right": null,
       "top": null,
       "visibility": null,
       "width": null
      }
     },
     "322ea15721f14b20a4ff633d38f7ed33": {
      "model_module": "@jupyter-widgets/base",
      "model_module_version": "1.2.0",
      "model_name": "LayoutModel",
      "state": {
       "_model_module": "@jupyter-widgets/base",
       "_model_module_version": "1.2.0",
       "_model_name": "LayoutModel",
       "_view_count": null,
       "_view_module": "@jupyter-widgets/base",
       "_view_module_version": "1.2.0",
       "_view_name": "LayoutView",
       "align_content": null,
       "align_items": null,
       "align_self": null,
       "border": null,
       "bottom": null,
       "display": null,
       "flex": null,
       "flex_flow": null,
       "grid_area": null,
       "grid_auto_columns": null,
       "grid_auto_flow": null,
       "grid_auto_rows": null,
       "grid_column": null,
       "grid_gap": null,
       "grid_row": null,
       "grid_template_areas": null,
       "grid_template_columns": null,
       "grid_template_rows": null,
       "height": null,
       "justify_content": null,
       "justify_items": null,
       "left": null,
       "margin": null,
       "max_height": null,
       "max_width": null,
       "min_height": null,
       "min_width": null,
       "object_fit": null,
       "object_position": null,
       "order": null,
       "overflow": null,
       "overflow_x": null,
       "overflow_y": null,
       "padding": null,
       "right": null,
       "top": null,
       "visibility": null,
       "width": null
      }
     },
     "3b18d811676e4a89bec0a17cd8c58ae8": {
      "model_module": "@jupyter-widgets/base",
      "model_module_version": "1.2.0",
      "model_name": "LayoutModel",
      "state": {
       "_model_module": "@jupyter-widgets/base",
       "_model_module_version": "1.2.0",
       "_model_name": "LayoutModel",
       "_view_count": null,
       "_view_module": "@jupyter-widgets/base",
       "_view_module_version": "1.2.0",
       "_view_name": "LayoutView",
       "align_content": null,
       "align_items": null,
       "align_self": null,
       "border": null,
       "bottom": null,
       "display": null,
       "flex": null,
       "flex_flow": null,
       "grid_area": null,
       "grid_auto_columns": null,
       "grid_auto_flow": null,
       "grid_auto_rows": null,
       "grid_column": null,
       "grid_gap": null,
       "grid_row": null,
       "grid_template_areas": null,
       "grid_template_columns": null,
       "grid_template_rows": null,
       "height": null,
       "justify_content": null,
       "justify_items": null,
       "left": null,
       "margin": null,
       "max_height": null,
       "max_width": null,
       "min_height": null,
       "min_width": null,
       "object_fit": null,
       "object_position": null,
       "order": null,
       "overflow": null,
       "overflow_x": null,
       "overflow_y": null,
       "padding": null,
       "right": null,
       "top": null,
       "visibility": null,
       "width": null
      }
     },
     "3bc8cdae4343417b97184121f673d197": {
      "model_module": "@jupyter-widgets/base",
      "model_module_version": "1.2.0",
      "model_name": "LayoutModel",
      "state": {
       "_model_module": "@jupyter-widgets/base",
       "_model_module_version": "1.2.0",
       "_model_name": "LayoutModel",
       "_view_count": null,
       "_view_module": "@jupyter-widgets/base",
       "_view_module_version": "1.2.0",
       "_view_name": "LayoutView",
       "align_content": null,
       "align_items": null,
       "align_self": null,
       "border": null,
       "bottom": null,
       "display": null,
       "flex": null,
       "flex_flow": null,
       "grid_area": null,
       "grid_auto_columns": null,
       "grid_auto_flow": null,
       "grid_auto_rows": null,
       "grid_column": null,
       "grid_gap": null,
       "grid_row": null,
       "grid_template_areas": null,
       "grid_template_columns": null,
       "grid_template_rows": null,
       "height": null,
       "justify_content": null,
       "justify_items": null,
       "left": null,
       "margin": null,
       "max_height": null,
       "max_width": null,
       "min_height": null,
       "min_width": null,
       "object_fit": null,
       "object_position": null,
       "order": null,
       "overflow": null,
       "overflow_x": null,
       "overflow_y": null,
       "padding": null,
       "right": null,
       "top": null,
       "visibility": null,
       "width": null
      }
     },
     "3d4866bb87884511aa405161108624e2": {
      "model_module": "@jupyter-widgets/base",
      "model_module_version": "1.2.0",
      "model_name": "LayoutModel",
      "state": {
       "_model_module": "@jupyter-widgets/base",
       "_model_module_version": "1.2.0",
       "_model_name": "LayoutModel",
       "_view_count": null,
       "_view_module": "@jupyter-widgets/base",
       "_view_module_version": "1.2.0",
       "_view_name": "LayoutView",
       "align_content": null,
       "align_items": null,
       "align_self": null,
       "border": null,
       "bottom": null,
       "display": null,
       "flex": null,
       "flex_flow": null,
       "grid_area": null,
       "grid_auto_columns": null,
       "grid_auto_flow": null,
       "grid_auto_rows": null,
       "grid_column": null,
       "grid_gap": null,
       "grid_row": null,
       "grid_template_areas": null,
       "grid_template_columns": null,
       "grid_template_rows": null,
       "height": null,
       "justify_content": null,
       "justify_items": null,
       "left": null,
       "margin": null,
       "max_height": null,
       "max_width": null,
       "min_height": null,
       "min_width": null,
       "object_fit": null,
       "object_position": null,
       "order": null,
       "overflow": null,
       "overflow_x": null,
       "overflow_y": null,
       "padding": null,
       "right": null,
       "top": null,
       "visibility": null,
       "width": null
      }
     },
     "3d7a3ef5c2af4e54b58475a780aaf99c": {
      "model_module": "@jupyter-widgets/base",
      "model_module_version": "1.2.0",
      "model_name": "LayoutModel",
      "state": {
       "_model_module": "@jupyter-widgets/base",
       "_model_module_version": "1.2.0",
       "_model_name": "LayoutModel",
       "_view_count": null,
       "_view_module": "@jupyter-widgets/base",
       "_view_module_version": "1.2.0",
       "_view_name": "LayoutView",
       "align_content": null,
       "align_items": null,
       "align_self": null,
       "border": null,
       "bottom": null,
       "display": null,
       "flex": null,
       "flex_flow": null,
       "grid_area": null,
       "grid_auto_columns": null,
       "grid_auto_flow": null,
       "grid_auto_rows": null,
       "grid_column": null,
       "grid_gap": null,
       "grid_row": null,
       "grid_template_areas": null,
       "grid_template_columns": null,
       "grid_template_rows": null,
       "height": null,
       "justify_content": null,
       "justify_items": null,
       "left": null,
       "margin": null,
       "max_height": null,
       "max_width": null,
       "min_height": null,
       "min_width": null,
       "object_fit": null,
       "object_position": null,
       "order": null,
       "overflow": null,
       "overflow_x": null,
       "overflow_y": null,
       "padding": null,
       "right": null,
       "top": null,
       "visibility": null,
       "width": null
      }
     },
     "3e1680a8b0724b9aa8de3c1896789b3e": {
      "model_module": "@jupyter-widgets/base",
      "model_module_version": "1.2.0",
      "model_name": "LayoutModel",
      "state": {
       "_model_module": "@jupyter-widgets/base",
       "_model_module_version": "1.2.0",
       "_model_name": "LayoutModel",
       "_view_count": null,
       "_view_module": "@jupyter-widgets/base",
       "_view_module_version": "1.2.0",
       "_view_name": "LayoutView",
       "align_content": null,
       "align_items": null,
       "align_self": null,
       "border": null,
       "bottom": null,
       "display": null,
       "flex": null,
       "flex_flow": null,
       "grid_area": null,
       "grid_auto_columns": null,
       "grid_auto_flow": null,
       "grid_auto_rows": null,
       "grid_column": null,
       "grid_gap": null,
       "grid_row": null,
       "grid_template_areas": null,
       "grid_template_columns": null,
       "grid_template_rows": null,
       "height": null,
       "justify_content": null,
       "justify_items": null,
       "left": null,
       "margin": null,
       "max_height": null,
       "max_width": null,
       "min_height": null,
       "min_width": null,
       "object_fit": null,
       "object_position": null,
       "order": null,
       "overflow": null,
       "overflow_x": null,
       "overflow_y": null,
       "padding": null,
       "right": null,
       "top": null,
       "visibility": null,
       "width": null
      }
     },
     "40072822001f46d8974a1a6207488007": {
      "model_module": "@jupyter-widgets/controls",
      "model_module_version": "1.5.0",
      "model_name": "DescriptionStyleModel",
      "state": {
       "_model_module": "@jupyter-widgets/controls",
       "_model_module_version": "1.5.0",
       "_model_name": "DescriptionStyleModel",
       "_view_count": null,
       "_view_module": "@jupyter-widgets/base",
       "_view_module_version": "1.2.0",
       "_view_name": "StyleView",
       "description_width": ""
      }
     },
     "423b84fca06d4d54ac28ee87949f431d": {
      "model_module": "@jupyter-widgets/controls",
      "model_module_version": "1.5.0",
      "model_name": "FloatProgressModel",
      "state": {
       "_dom_classes": [],
       "_model_module": "@jupyter-widgets/controls",
       "_model_module_version": "1.5.0",
       "_model_name": "FloatProgressModel",
       "_view_count": null,
       "_view_module": "@jupyter-widgets/controls",
       "_view_module_version": "1.5.0",
       "_view_name": "ProgressView",
       "bar_style": "success",
       "description": "",
       "description_tooltip": null,
       "layout": "IPY_MODEL_93dfc31018db4d70b001b24b7af6c6cb",
       "max": 147.0,
       "min": 0.0,
       "orientation": "horizontal",
       "style": "IPY_MODEL_086c4cc1b8c14b85a13371c7abe5d581",
       "value": 147.0
      }
     },
     "42ca4edccba647d0aa92159662695105": {
      "model_module": "@jupyter-widgets/controls",
      "model_module_version": "1.5.0",
      "model_name": "ProgressStyleModel",
      "state": {
       "_model_module": "@jupyter-widgets/controls",
       "_model_module_version": "1.5.0",
       "_model_name": "ProgressStyleModel",
       "_view_count": null,
       "_view_module": "@jupyter-widgets/base",
       "_view_module_version": "1.2.0",
       "_view_name": "StyleView",
       "bar_color": null,
       "description_width": ""
      }
     },
     "476760046a7742dc8637c169b5b93f04": {
      "model_module": "@jupyter-widgets/controls",
      "model_module_version": "1.5.0",
      "model_name": "HBoxModel",
      "state": {
       "_dom_classes": [],
       "_model_module": "@jupyter-widgets/controls",
       "_model_module_version": "1.5.0",
       "_model_name": "HBoxModel",
       "_view_count": null,
       "_view_module": "@jupyter-widgets/controls",
       "_view_module_version": "1.5.0",
       "_view_name": "HBoxView",
       "box_style": "",
       "children": [
        "IPY_MODEL_deef30aa12924af890290afb17369635",
        "IPY_MODEL_20849dbb42a947a9b40b5a3df9931ab2",
        "IPY_MODEL_5e86ca7341a9446aaeea1622613ac793"
       ],
       "layout": "IPY_MODEL_6ad844007f4c4f4090df3eca13215539"
      }
     },
     "49891f2aba3e4c47927ea10b6f01ee2b": {
      "model_module": "@jupyter-widgets/controls",
      "model_module_version": "1.5.0",
      "model_name": "DescriptionStyleModel",
      "state": {
       "_model_module": "@jupyter-widgets/controls",
       "_model_module_version": "1.5.0",
       "_model_name": "DescriptionStyleModel",
       "_view_count": null,
       "_view_module": "@jupyter-widgets/base",
       "_view_module_version": "1.2.0",
       "_view_name": "StyleView",
       "description_width": ""
      }
     },
     "4b231a45ee8647f18dd0319b0eb56258": {
      "model_module": "@jupyter-widgets/controls",
      "model_module_version": "1.5.0",
      "model_name": "FloatProgressModel",
      "state": {
       "_dom_classes": [],
       "_model_module": "@jupyter-widgets/controls",
       "_model_module_version": "1.5.0",
       "_model_name": "FloatProgressModel",
       "_view_count": null,
       "_view_module": "@jupyter-widgets/controls",
       "_view_module_version": "1.5.0",
       "_view_name": "ProgressView",
       "bar_style": "success",
       "description": "",
       "description_tooltip": null,
       "layout": "IPY_MODEL_5898c31d873c410982ad7da03af51977",
       "max": 2503.0,
       "min": 0.0,
       "orientation": "horizontal",
       "style": "IPY_MODEL_6f3cb1af76a141f981817b50cb219d75",
       "value": 2503.0
      }
     },
     "5253458dcdf44b069cf09873d4ece75a": {
      "model_module": "@jupyter-widgets/controls",
      "model_module_version": "1.5.0",
      "model_name": "DescriptionStyleModel",
      "state": {
       "_model_module": "@jupyter-widgets/controls",
       "_model_module_version": "1.5.0",
       "_model_name": "DescriptionStyleModel",
       "_view_count": null,
       "_view_module": "@jupyter-widgets/base",
       "_view_module_version": "1.2.0",
       "_view_name": "StyleView",
       "description_width": ""
      }
     },
     "55f5f7281f5d432dba13902280acb59f": {
      "model_module": "@jupyter-widgets/controls",
      "model_module_version": "1.5.0",
      "model_name": "HTMLModel",
      "state": {
       "_dom_classes": [],
       "_model_module": "@jupyter-widgets/controls",
       "_model_module_version": "1.5.0",
       "_model_name": "HTMLModel",
       "_view_count": null,
       "_view_module": "@jupyter-widgets/controls",
       "_view_module_version": "1.5.0",
       "_view_name": "HTMLView",
       "description": "",
       "description_tooltip": null,
       "layout": "IPY_MODEL_d3e188892eee402cbec61065ce09e8d5",
       "placeholder": "​",
       "style": "IPY_MODEL_6adb42356e494f4c927bbf5fd6c128e7",
       "value": "Downloading builder script: "
      }
     },
     "5898c31d873c410982ad7da03af51977": {
      "model_module": "@jupyter-widgets/base",
      "model_module_version": "1.2.0",
      "model_name": "LayoutModel",
      "state": {
       "_model_module": "@jupyter-widgets/base",
       "_model_module_version": "1.2.0",
       "_model_name": "LayoutModel",
       "_view_count": null,
       "_view_module": "@jupyter-widgets/base",
       "_view_module_version": "1.2.0",
       "_view_name": "LayoutView",
       "align_content": null,
       "align_items": null,
       "align_self": null,
       "border": null,
       "bottom": null,
       "display": null,
       "flex": null,
       "flex_flow": null,
       "grid_area": null,
       "grid_auto_columns": null,
       "grid_auto_flow": null,
       "grid_auto_rows": null,
       "grid_column": null,
       "grid_gap": null,
       "grid_row": null,
       "grid_template_areas": null,
       "grid_template_columns": null,
       "grid_template_rows": null,
       "height": null,
       "justify_content": null,
       "justify_items": null,
       "left": null,
       "margin": null,
       "max_height": null,
       "max_width": null,
       "min_height": null,
       "min_width": null,
       "object_fit": null,
       "object_position": null,
       "order": null,
       "overflow": null,
       "overflow_x": null,
       "overflow_y": null,
       "padding": null,
       "right": null,
       "top": null,
       "visibility": null,
       "width": null
      }
     },
     "5e4e755d73e24e0f895b47ccf2af9adb": {
      "model_module": "@jupyter-widgets/base",
      "model_module_version": "1.2.0",
      "model_name": "LayoutModel",
      "state": {
       "_model_module": "@jupyter-widgets/base",
       "_model_module_version": "1.2.0",
       "_model_name": "LayoutModel",
       "_view_count": null,
       "_view_module": "@jupyter-widgets/base",
       "_view_module_version": "1.2.0",
       "_view_name": "LayoutView",
       "align_content": null,
       "align_items": null,
       "align_self": null,
       "border": null,
       "bottom": null,
       "display": null,
       "flex": null,
       "flex_flow": null,
       "grid_area": null,
       "grid_auto_columns": null,
       "grid_auto_flow": null,
       "grid_auto_rows": null,
       "grid_column": null,
       "grid_gap": null,
       "grid_row": null,
       "grid_template_areas": null,
       "grid_template_columns": null,
       "grid_template_rows": null,
       "height": null,
       "justify_content": null,
       "justify_items": null,
       "left": null,
       "margin": null,
       "max_height": null,
       "max_width": null,
       "min_height": null,
       "min_width": null,
       "object_fit": null,
       "object_position": null,
       "order": null,
       "overflow": null,
       "overflow_x": null,
       "overflow_y": null,
       "padding": null,
       "right": null,
       "top": null,
       "visibility": null,
       "width": null
      }
     },
     "5e86ca7341a9446aaeea1622613ac793": {
      "model_module": "@jupyter-widgets/controls",
      "model_module_version": "1.5.0",
      "model_name": "HTMLModel",
      "state": {
       "_dom_classes": [],
       "_model_module": "@jupyter-widgets/controls",
       "_model_module_version": "1.5.0",
       "_model_name": "HTMLModel",
       "_view_count": null,
       "_view_module": "@jupyter-widgets/controls",
       "_view_module_version": "1.5.0",
       "_view_name": "HTMLView",
       "description": "",
       "description_tooltip": null,
       "layout": "IPY_MODEL_5e4e755d73e24e0f895b47ccf2af9adb",
       "placeholder": "​",
       "style": "IPY_MODEL_850d7e7e2acb4c2e980ca453259b2bc8",
       "value": " 2.33G/2.33G [00:22&lt;00:00, 105MB/s]"
      }
     },
     "64e9cf20227d4d229c71d22d4ccc44bd": {
      "model_module": "@jupyter-widgets/controls",
      "model_module_version": "1.5.0",
      "model_name": "FloatProgressModel",
      "state": {
       "_dom_classes": [],
       "_model_module": "@jupyter-widgets/controls",
       "_model_module_version": "1.5.0",
       "_model_name": "FloatProgressModel",
       "_view_count": null,
       "_view_module": "@jupyter-widgets/controls",
       "_view_module_version": "1.5.0",
       "_view_name": "ProgressView",
       "bar_style": "success",
       "description": "",
       "description_tooltip": null,
       "layout": "IPY_MODEL_1f7fa52108444a93af4cebadd4415465",
       "max": 52304.0,
       "min": 0.0,
       "orientation": "horizontal",
       "style": "IPY_MODEL_dfe916fb587c40a3b74a7fa594917aa4",
       "value": 52304.0
      }
     },
     "67489c1c0a4b493b914d287462f3a477": {
      "model_module": "@jupyter-widgets/controls",
      "model_module_version": "1.5.0",
      "model_name": "ProgressStyleModel",
      "state": {
       "_model_module": "@jupyter-widgets/controls",
       "_model_module_version": "1.5.0",
       "_model_name": "ProgressStyleModel",
       "_view_count": null,
       "_view_module": "@jupyter-widgets/base",
       "_view_module_version": "1.2.0",
       "_view_name": "StyleView",
       "bar_color": null,
       "description_width": ""
      }
     },
     "6ad844007f4c4f4090df3eca13215539": {
      "model_module": "@jupyter-widgets/base",
      "model_module_version": "1.2.0",
      "model_name": "LayoutModel",
      "state": {
       "_model_module": "@jupyter-widgets/base",
       "_model_module_version": "1.2.0",
       "_model_name": "LayoutModel",
       "_view_count": null,
       "_view_module": "@jupyter-widgets/base",
       "_view_module_version": "1.2.0",
       "_view_name": "LayoutView",
       "align_content": null,
       "align_items": null,
       "align_self": null,
       "border": null,
       "bottom": null,
       "display": null,
       "flex": null,
       "flex_flow": null,
       "grid_area": null,
       "grid_auto_columns": null,
       "grid_auto_flow": null,
       "grid_auto_rows": null,
       "grid_column": null,
       "grid_gap": null,
       "grid_row": null,
       "grid_template_areas": null,
       "grid_template_columns": null,
       "grid_template_rows": null,
       "height": null,
       "justify_content": null,
       "justify_items": null,
       "left": null,
       "margin": null,
       "max_height": null,
       "max_width": null,
       "min_height": null,
       "min_width": null,
       "object_fit": null,
       "object_position": null,
       "order": null,
       "overflow": null,
       "overflow_x": null,
       "overflow_y": null,
       "padding": null,
       "right": null,
       "top": null,
       "visibility": null,
       "width": null
      }
     },
     "6adb42356e494f4c927bbf5fd6c128e7": {
      "model_module": "@jupyter-widgets/controls",
      "model_module_version": "1.5.0",
      "model_name": "DescriptionStyleModel",
      "state": {
       "_model_module": "@jupyter-widgets/controls",
       "_model_module_version": "1.5.0",
       "_model_name": "DescriptionStyleModel",
       "_view_count": null,
       "_view_module": "@jupyter-widgets/base",
       "_view_module_version": "1.2.0",
       "_view_name": "StyleView",
       "description_width": ""
      }
     },
     "6b3a5605587f45fa9efdfcf5e61ab89d": {
      "model_module": "@jupyter-widgets/controls",
      "model_module_version": "1.5.0",
      "model_name": "DescriptionStyleModel",
      "state": {
       "_model_module": "@jupyter-widgets/controls",
       "_model_module_version": "1.5.0",
       "_model_name": "DescriptionStyleModel",
       "_view_count": null,
       "_view_module": "@jupyter-widgets/base",
       "_view_module_version": "1.2.0",
       "_view_name": "StyleView",
       "description_width": ""
      }
     },
     "6e01b671d99c4f4d829480ea19f3908a": {
      "model_module": "@jupyter-widgets/controls",
      "model_module_version": "1.5.0",
      "model_name": "DescriptionStyleModel",
      "state": {
       "_model_module": "@jupyter-widgets/controls",
       "_model_module_version": "1.5.0",
       "_model_name": "DescriptionStyleModel",
       "_view_count": null,
       "_view_module": "@jupyter-widgets/base",
       "_view_module_version": "1.2.0",
       "_view_name": "StyleView",
       "description_width": ""
      }
     },
     "6f3cb1af76a141f981817b50cb219d75": {
      "model_module": "@jupyter-widgets/controls",
      "model_module_version": "1.5.0",
      "model_name": "ProgressStyleModel",
      "state": {
       "_model_module": "@jupyter-widgets/controls",
       "_model_module_version": "1.5.0",
       "_model_name": "ProgressStyleModel",
       "_view_count": null,
       "_view_module": "@jupyter-widgets/base",
       "_view_module_version": "1.2.0",
       "_view_name": "StyleView",
       "bar_color": null,
       "description_width": ""
      }
     },
     "6f822c012aa84c01b1cb686d8306b88b": {
      "model_module": "@jupyter-widgets/controls",
      "model_module_version": "1.5.0",
      "model_name": "DescriptionStyleModel",
      "state": {
       "_model_module": "@jupyter-widgets/controls",
       "_model_module_version": "1.5.0",
       "_model_name": "DescriptionStyleModel",
       "_view_count": null,
       "_view_module": "@jupyter-widgets/base",
       "_view_module_version": "1.2.0",
       "_view_name": "StyleView",
       "description_width": ""
      }
     },
     "720a8ee98c074507a7937d1924f8ba89": {
      "model_module": "@jupyter-widgets/base",
      "model_module_version": "1.2.0",
      "model_name": "LayoutModel",
      "state": {
       "_model_module": "@jupyter-widgets/base",
       "_model_module_version": "1.2.0",
       "_model_name": "LayoutModel",
       "_view_count": null,
       "_view_module": "@jupyter-widgets/base",
       "_view_module_version": "1.2.0",
       "_view_name": "LayoutView",
       "align_content": null,
       "align_items": null,
       "align_self": null,
       "border": null,
       "bottom": null,
       "display": null,
       "flex": null,
       "flex_flow": null,
       "grid_area": null,
       "grid_auto_columns": null,
       "grid_auto_flow": null,
       "grid_auto_rows": null,
       "grid_column": null,
       "grid_gap": null,
       "grid_row": null,
       "grid_template_areas": null,
       "grid_template_columns": null,
       "grid_template_rows": null,
       "height": null,
       "justify_content": null,
       "justify_items": null,
       "left": null,
       "margin": null,
       "max_height": null,
       "max_width": null,
       "min_height": null,
       "min_width": null,
       "object_fit": null,
       "object_position": null,
       "order": null,
       "overflow": null,
       "overflow_x": null,
       "overflow_y": null,
       "padding": null,
       "right": null,
       "top": null,
       "visibility": null,
       "width": null
      }
     },
     "7251f7ef8c984efa8e01d14c4b3768ef": {
      "model_module": "@jupyter-widgets/controls",
      "model_module_version": "1.5.0",
      "model_name": "DescriptionStyleModel",
      "state": {
       "_model_module": "@jupyter-widgets/controls",
       "_model_module_version": "1.5.0",
       "_model_name": "DescriptionStyleModel",
       "_view_count": null,
       "_view_module": "@jupyter-widgets/base",
       "_view_module_version": "1.2.0",
       "_view_name": "StyleView",
       "description_width": ""
      }
     },
     "77ce49cd7f7244d69e7b07508fac47da": {
      "model_module": "@jupyter-widgets/controls",
      "model_module_version": "1.5.0",
      "model_name": "HTMLModel",
      "state": {
       "_dom_classes": [],
       "_model_module": "@jupyter-widgets/controls",
       "_model_module_version": "1.5.0",
       "_model_name": "HTMLModel",
       "_view_count": null,
       "_view_module": "@jupyter-widgets/controls",
       "_view_module_version": "1.5.0",
       "_view_name": "HTMLView",
       "description": "",
       "description_tooltip": null,
       "layout": "IPY_MODEL_c7dba3c427e2412b911f77f58cf2a26c",
       "placeholder": "​",
       "style": "IPY_MODEL_6f822c012aa84c01b1cb686d8306b88b",
       "value": "100%"
      }
     },
     "78df60128873456e80b137e49ac2f1ec": {
      "model_module": "@jupyter-widgets/controls",
      "model_module_version": "1.5.0",
      "model_name": "ProgressStyleModel",
      "state": {
       "_model_module": "@jupyter-widgets/controls",
       "_model_module_version": "1.5.0",
       "_model_name": "ProgressStyleModel",
       "_view_count": null,
       "_view_module": "@jupyter-widgets/base",
       "_view_module_version": "1.2.0",
       "_view_name": "StyleView",
       "bar_color": null,
       "description_width": ""
      }
     },
     "79179f9db6e746bfa76264b86dc4354a": {
      "model_module": "@jupyter-widgets/base",
      "model_module_version": "1.2.0",
      "model_name": "LayoutModel",
      "state": {
       "_model_module": "@jupyter-widgets/base",
       "_model_module_version": "1.2.0",
       "_model_name": "LayoutModel",
       "_view_count": null,
       "_view_module": "@jupyter-widgets/base",
       "_view_module_version": "1.2.0",
       "_view_name": "LayoutView",
       "align_content": null,
       "align_items": null,
       "align_self": null,
       "border": null,
       "bottom": null,
       "display": null,
       "flex": null,
       "flex_flow": null,
       "grid_area": null,
       "grid_auto_columns": null,
       "grid_auto_flow": null,
       "grid_auto_rows": null,
       "grid_column": null,
       "grid_gap": null,
       "grid_row": null,
       "grid_template_areas": null,
       "grid_template_columns": null,
       "grid_template_rows": null,
       "height": null,
       "justify_content": null,
       "justify_items": null,
       "left": null,
       "margin": null,
       "max_height": null,
       "max_width": null,
       "min_height": null,
       "min_width": null,
       "object_fit": null,
       "object_position": null,
       "order": null,
       "overflow": null,
       "overflow_x": null,
       "overflow_y": null,
       "padding": null,
       "right": null,
       "top": null,
       "visibility": null,
       "width": null
      }
     },
     "82216aee688d4b938b13bcfefaadc716": {
      "model_module": "@jupyter-widgets/controls",
      "model_module_version": "1.5.0",
      "model_name": "HTMLModel",
      "state": {
       "_dom_classes": [],
       "_model_module": "@jupyter-widgets/controls",
       "_model_module_version": "1.5.0",
       "_model_name": "HTMLModel",
       "_view_count": null,
       "_view_module": "@jupyter-widgets/controls",
       "_view_module_version": "1.5.0",
       "_view_name": "HTMLView",
       "description": "",
       "description_tooltip": null,
       "layout": "IPY_MODEL_3d7a3ef5c2af4e54b58475a780aaf99c",
       "placeholder": "​",
       "style": "IPY_MODEL_eb59d6c32f204549a24ff2a8a2430560",
       "value": " 4.48k/? [00:00&lt;00:00, 351kB/s]"
      }
     },
     "833d714a482546fd99a2f4ef853eb94b": {
      "model_module": "@jupyter-widgets/base",
      "model_module_version": "1.2.0",
      "model_name": "LayoutModel",
      "state": {
       "_model_module": "@jupyter-widgets/base",
       "_model_module_version": "1.2.0",
       "_model_name": "LayoutModel",
       "_view_count": null,
       "_view_module": "@jupyter-widgets/base",
       "_view_module_version": "1.2.0",
       "_view_name": "LayoutView",
       "align_content": null,
       "align_items": null,
       "align_self": null,
       "border": null,
       "bottom": null,
       "display": null,
       "flex": null,
       "flex_flow": null,
       "grid_area": null,
       "grid_auto_columns": null,
       "grid_auto_flow": null,
       "grid_auto_rows": null,
       "grid_column": null,
       "grid_gap": null,
       "grid_row": null,
       "grid_template_areas": null,
       "grid_template_columns": null,
       "grid_template_rows": null,
       "height": null,
       "justify_content": null,
       "justify_items": null,
       "left": null,
       "margin": null,
       "max_height": null,
       "max_width": null,
       "min_height": null,
       "min_width": null,
       "object_fit": null,
       "object_position": null,
       "order": null,
       "overflow": null,
       "overflow_x": null,
       "overflow_y": null,
       "padding": null,
       "right": null,
       "top": null,
       "visibility": null,
       "width": null
      }
     },
     "83a809ead33d40aab931431cca08614f": {
      "model_module": "@jupyter-widgets/controls",
      "model_module_version": "1.5.0",
      "model_name": "DescriptionStyleModel",
      "state": {
       "_model_module": "@jupyter-widgets/controls",
       "_model_module_version": "1.5.0",
       "_model_name": "DescriptionStyleModel",
       "_view_count": null,
       "_view_module": "@jupyter-widgets/base",
       "_view_module_version": "1.2.0",
       "_view_name": "StyleView",
       "description_width": ""
      }
     },
     "83ce6720350c4bacbef3702612198484": {
      "model_module": "@jupyter-widgets/base",
      "model_module_version": "1.2.0",
      "model_name": "LayoutModel",
      "state": {
       "_model_module": "@jupyter-widgets/base",
       "_model_module_version": "1.2.0",
       "_model_name": "LayoutModel",
       "_view_count": null,
       "_view_module": "@jupyter-widgets/base",
       "_view_module_version": "1.2.0",
       "_view_name": "LayoutView",
       "align_content": null,
       "align_items": null,
       "align_self": null,
       "border": null,
       "bottom": null,
       "display": null,
       "flex": null,
       "flex_flow": null,
       "grid_area": null,
       "grid_auto_columns": null,
       "grid_auto_flow": null,
       "grid_auto_rows": null,
       "grid_column": null,
       "grid_gap": null,
       "grid_row": null,
       "grid_template_areas": null,
       "grid_template_columns": null,
       "grid_template_rows": null,
       "height": null,
       "justify_content": null,
       "justify_items": null,
       "left": null,
       "margin": null,
       "max_height": null,
       "max_width": null,
       "min_height": null,
       "min_width": null,
       "object_fit": null,
       "object_position": null,
       "order": null,
       "overflow": null,
       "overflow_x": null,
       "overflow_y": null,
       "padding": null,
       "right": null,
       "top": null,
       "visibility": null,
       "width": null
      }
     },
     "849d0e4d68974f7eb77e50546d70b47b": {
      "model_module": "@jupyter-widgets/base",
      "model_module_version": "1.2.0",
      "model_name": "LayoutModel",
      "state": {
       "_model_module": "@jupyter-widgets/base",
       "_model_module_version": "1.2.0",
       "_model_name": "LayoutModel",
       "_view_count": null,
       "_view_module": "@jupyter-widgets/base",
       "_view_module_version": "1.2.0",
       "_view_name": "LayoutView",
       "align_content": null,
       "align_items": null,
       "align_self": null,
       "border": null,
       "bottom": null,
       "display": null,
       "flex": null,
       "flex_flow": null,
       "grid_area": null,
       "grid_auto_columns": null,
       "grid_auto_flow": null,
       "grid_auto_rows": null,
       "grid_column": null,
       "grid_gap": null,
       "grid_row": null,
       "grid_template_areas": null,
       "grid_template_columns": null,
       "grid_template_rows": null,
       "height": null,
       "justify_content": null,
       "justify_items": null,
       "left": null,
       "margin": null,
       "max_height": null,
       "max_width": null,
       "min_height": null,
       "min_width": null,
       "object_fit": null,
       "object_position": null,
       "order": null,
       "overflow": null,
       "overflow_x": null,
       "overflow_y": null,
       "padding": null,
       "right": null,
       "top": null,
       "visibility": null,
       "width": null
      }
     },
     "850d7e7e2acb4c2e980ca453259b2bc8": {
      "model_module": "@jupyter-widgets/controls",
      "model_module_version": "1.5.0",
      "model_name": "DescriptionStyleModel",
      "state": {
       "_model_module": "@jupyter-widgets/controls",
       "_model_module_version": "1.5.0",
       "_model_name": "DescriptionStyleModel",
       "_view_count": null,
       "_view_module": "@jupyter-widgets/base",
       "_view_module_version": "1.2.0",
       "_view_name": "StyleView",
       "description_width": ""
      }
     },
     "853703944ad74fa0a7bf44dbb23a4ad0": {
      "model_module": "@jupyter-widgets/controls",
      "model_module_version": "1.5.0",
      "model_name": "DescriptionStyleModel",
      "state": {
       "_model_module": "@jupyter-widgets/controls",
       "_model_module_version": "1.5.0",
       "_model_name": "DescriptionStyleModel",
       "_view_count": null,
       "_view_module": "@jupyter-widgets/base",
       "_view_module_version": "1.2.0",
       "_view_name": "StyleView",
       "description_width": ""
      }
     },
     "8604ab0767f645e7920402b17a949629": {
      "model_module": "@jupyter-widgets/controls",
      "model_module_version": "1.5.0",
      "model_name": "DescriptionStyleModel",
      "state": {
       "_model_module": "@jupyter-widgets/controls",
       "_model_module_version": "1.5.0",
       "_model_name": "DescriptionStyleModel",
       "_view_count": null,
       "_view_module": "@jupyter-widgets/base",
       "_view_module_version": "1.2.0",
       "_view_name": "StyleView",
       "description_width": ""
      }
     },
     "87290d85e93c4e659beb1b39cc007079": {
      "model_module": "@jupyter-widgets/controls",
      "model_module_version": "1.5.0",
      "model_name": "DescriptionStyleModel",
      "state": {
       "_model_module": "@jupyter-widgets/controls",
       "_model_module_version": "1.5.0",
       "_model_name": "DescriptionStyleModel",
       "_view_count": null,
       "_view_module": "@jupyter-widgets/base",
       "_view_module_version": "1.2.0",
       "_view_name": "StyleView",
       "description_width": ""
      }
     },
     "89db550108c14e91b5c17e094e005044": {
      "model_module": "@jupyter-widgets/base",
      "model_module_version": "1.2.0",
      "model_name": "LayoutModel",
      "state": {
       "_model_module": "@jupyter-widgets/base",
       "_model_module_version": "1.2.0",
       "_model_name": "LayoutModel",
       "_view_count": null,
       "_view_module": "@jupyter-widgets/base",
       "_view_module_version": "1.2.0",
       "_view_name": "LayoutView",
       "align_content": null,
       "align_items": null,
       "align_self": null,
       "border": null,
       "bottom": null,
       "display": null,
       "flex": null,
       "flex_flow": null,
       "grid_area": null,
       "grid_auto_columns": null,
       "grid_auto_flow": null,
       "grid_auto_rows": null,
       "grid_column": null,
       "grid_gap": null,
       "grid_row": null,
       "grid_template_areas": null,
       "grid_template_columns": null,
       "grid_template_rows": null,
       "height": null,
       "justify_content": null,
       "justify_items": null,
       "left": null,
       "margin": null,
       "max_height": null,
       "max_width": null,
       "min_height": null,
       "min_width": null,
       "object_fit": null,
       "object_position": null,
       "order": null,
       "overflow": null,
       "overflow_x": null,
       "overflow_y": null,
       "padding": null,
       "right": null,
       "top": null,
       "visibility": null,
       "width": null
      }
     },
     "8b674d0b880e40019a68914214fd59a7": {
      "model_module": "@jupyter-widgets/controls",
      "model_module_version": "1.5.0",
      "model_name": "DescriptionStyleModel",
      "state": {
       "_model_module": "@jupyter-widgets/controls",
       "_model_module_version": "1.5.0",
       "_model_name": "DescriptionStyleModel",
       "_view_count": null,
       "_view_module": "@jupyter-widgets/base",
       "_view_module_version": "1.2.0",
       "_view_name": "StyleView",
       "description_width": ""
      }
     },
     "8d1a20cc8adc44f0920ba5c278189b71": {
      "model_module": "@jupyter-widgets/controls",
      "model_module_version": "1.5.0",
      "model_name": "HTMLModel",
      "state": {
       "_dom_classes": [],
       "_model_module": "@jupyter-widgets/controls",
       "_model_module_version": "1.5.0",
       "_model_name": "HTMLModel",
       "_view_count": null,
       "_view_module": "@jupyter-widgets/controls",
       "_view_module_version": "1.5.0",
       "_view_name": "HTMLView",
       "description": "",
       "description_tooltip": null,
       "layout": "IPY_MODEL_3e1680a8b0724b9aa8de3c1896789b3e",
       "placeholder": "​",
       "style": "IPY_MODEL_49891f2aba3e4c47927ea10b6f01ee2b",
       "value": "generation_config.json: 100%"
      }
     },
     "91309ac1a8b244c085584ddac7185dee": {
      "model_module": "@jupyter-widgets/controls",
      "model_module_version": "1.5.0",
      "model_name": "FloatProgressModel",
      "state": {
       "_dom_classes": [],
       "_model_module": "@jupyter-widgets/controls",
       "_model_module_version": "1.5.0",
       "_model_name": "FloatProgressModel",
       "_view_count": null,
       "_view_module": "@jupyter-widgets/controls",
       "_view_module_version": "1.5.0",
       "_view_name": "ProgressView",
       "bar_style": "success",
       "description": "",
       "description_tooltip": null,
       "layout": "IPY_MODEL_25f20929f70648c19ef70f64b454b393",
       "max": 1901.0,
       "min": 0.0,
       "orientation": "horizontal",
       "style": "IPY_MODEL_e448c4e16e5c4a6eb84670aa688aafaf",
       "value": 1901.0
      }
     },
     "93dfc31018db4d70b001b24b7af6c6cb": {
      "model_module": "@jupyter-widgets/base",
      "model_module_version": "1.2.0",
      "model_name": "LayoutModel",
      "state": {
       "_model_module": "@jupyter-widgets/base",
       "_model_module_version": "1.2.0",
       "_model_name": "LayoutModel",
       "_view_count": null,
       "_view_module": "@jupyter-widgets/base",
       "_view_module_version": "1.2.0",
       "_view_name": "LayoutView",
       "align_content": null,
       "align_items": null,
       "align_self": null,
       "border": null,
       "bottom": null,
       "display": null,
       "flex": null,
       "flex_flow": null,
       "grid_area": null,
       "grid_auto_columns": null,
       "grid_auto_flow": null,
       "grid_auto_rows": null,
       "grid_column": null,
       "grid_gap": null,
       "grid_row": null,
       "grid_template_areas": null,
       "grid_template_columns": null,
       "grid_template_rows": null,
       "height": null,
       "justify_content": null,
       "justify_items": null,
       "left": null,
       "margin": null,
       "max_height": null,
       "max_width": null,
       "min_height": null,
       "min_width": null,
       "object_fit": null,
       "object_position": null,
       "order": null,
       "overflow": null,
       "overflow_x": null,
       "overflow_y": null,
       "padding": null,
       "right": null,
       "top": null,
       "visibility": null,
       "width": null
      }
     },
     "96916345e48b4be9b0e80e32f091aaeb": {
      "model_module": "@jupyter-widgets/base",
      "model_module_version": "1.2.0",
      "model_name": "LayoutModel",
      "state": {
       "_model_module": "@jupyter-widgets/base",
       "_model_module_version": "1.2.0",
       "_model_name": "LayoutModel",
       "_view_count": null,
       "_view_module": "@jupyter-widgets/base",
       "_view_module_version": "1.2.0",
       "_view_name": "LayoutView",
       "align_content": null,
       "align_items": null,
       "align_self": null,
       "border": null,
       "bottom": null,
       "display": null,
       "flex": null,
       "flex_flow": null,
       "grid_area": null,
       "grid_auto_columns": null,
       "grid_auto_flow": null,
       "grid_auto_rows": null,
       "grid_column": null,
       "grid_gap": null,
       "grid_row": null,
       "grid_template_areas": null,
       "grid_template_columns": null,
       "grid_template_rows": null,
       "height": null,
       "justify_content": null,
       "justify_items": null,
       "left": null,
       "margin": null,
       "max_height": null,
       "max_width": null,
       "min_height": null,
       "min_width": null,
       "object_fit": null,
       "object_position": null,
       "order": null,
       "overflow": null,
       "overflow_x": null,
       "overflow_y": null,
       "padding": null,
       "right": null,
       "top": null,
       "visibility": null,
       "width": null
      }
     },
     "9c91abda63b74cdd88d716917bdb4bc0": {
      "model_module": "@jupyter-widgets/controls",
      "model_module_version": "1.5.0",
      "model_name": "HBoxModel",
      "state": {
       "_dom_classes": [],
       "_model_module": "@jupyter-widgets/controls",
       "_model_module_version": "1.5.0",
       "_model_name": "HBoxModel",
       "_view_count": null,
       "_view_module": "@jupyter-widgets/controls",
       "_view_module_version": "1.5.0",
       "_view_name": "HBoxView",
       "box_style": "",
       "children": [
        "IPY_MODEL_ddeb3afb776f44bb9cf192eb364c8fae",
        "IPY_MODEL_2e6331521329416abcee524855ee8f28",
        "IPY_MODEL_b9f8af77992e4c3e9ef3424424673d1b"
       ],
       "layout": "IPY_MODEL_79179f9db6e746bfa76264b86dc4354a"
      }
     },
     "9e02403270464074af4af7bc1fc97aa5": {
      "model_module": "@jupyter-widgets/base",
      "model_module_version": "1.2.0",
      "model_name": "LayoutModel",
      "state": {
       "_model_module": "@jupyter-widgets/base",
       "_model_module_version": "1.2.0",
       "_model_name": "LayoutModel",
       "_view_count": null,
       "_view_module": "@jupyter-widgets/base",
       "_view_module_version": "1.2.0",
       "_view_name": "LayoutView",
       "align_content": null,
       "align_items": null,
       "align_self": null,
       "border": null,
       "bottom": null,
       "display": null,
       "flex": null,
       "flex_flow": null,
       "grid_area": null,
       "grid_auto_columns": null,
       "grid_auto_flow": null,
       "grid_auto_rows": null,
       "grid_column": null,
       "grid_gap": null,
       "grid_row": null,
       "grid_template_areas": null,
       "grid_template_columns": null,
       "grid_template_rows": null,
       "height": null,
       "justify_content": null,
       "justify_items": null,
       "left": null,
       "margin": null,
       "max_height": null,
       "max_width": null,
       "min_height": null,
       "min_width": null,
       "object_fit": null,
       "object_position": null,
       "order": null,
       "overflow": null,
       "overflow_x": null,
       "overflow_y": null,
       "padding": null,
       "right": null,
       "top": null,
       "visibility": null,
       "width": null
      }
     },
     "9f8ecfe286274faeb4a67c3362d4361e": {
      "model_module": "@jupyter-widgets/controls",
      "model_module_version": "1.5.0",
      "model_name": "HTMLModel",
      "state": {
       "_dom_classes": [],
       "_model_module": "@jupyter-widgets/controls",
       "_model_module_version": "1.5.0",
       "_model_name": "HTMLModel",
       "_view_count": null,
       "_view_module": "@jupyter-widgets/controls",
       "_view_module_version": "1.5.0",
       "_view_name": "HTMLView",
       "description": "",
       "description_tooltip": null,
       "layout": "IPY_MODEL_3b18d811676e4a89bec0a17cd8c58ae8",
       "placeholder": "​",
       "style": "IPY_MODEL_40072822001f46d8974a1a6207488007",
       "value": " 52304/52304 [00:28&lt;00:00, 1724.52ex/s]"
      }
     },
     "9f97a7ce08374877bfacdc05a8d257f9": {
      "model_module": "@jupyter-widgets/controls",
      "model_module_version": "1.5.0",
      "model_name": "DescriptionStyleModel",
      "state": {
       "_model_module": "@jupyter-widgets/controls",
       "_model_module_version": "1.5.0",
       "_model_name": "DescriptionStyleModel",
       "_view_count": null,
       "_view_module": "@jupyter-widgets/base",
       "_view_module_version": "1.2.0",
       "_view_name": "StyleView",
       "description_width": ""
      }
     },
     "a34a7c99b4a149daaf81424c0e22f0f6": {
      "model_module": "@jupyter-widgets/controls",
      "model_module_version": "1.5.0",
      "model_name": "HBoxModel",
      "state": {
       "_dom_classes": [],
       "_model_module": "@jupyter-widgets/controls",
       "_model_module_version": "1.5.0",
       "_model_name": "HBoxModel",
       "_view_count": null,
       "_view_module": "@jupyter-widgets/controls",
       "_view_module_version": "1.5.0",
       "_view_name": "HBoxView",
       "box_style": "",
       "children": [
        "IPY_MODEL_b2c65d6cf5054dfa982006c0db8cff05",
        "IPY_MODEL_17ed002d58d243778e8a18224cc086bb",
        "IPY_MODEL_f0810cef5a1b49d4b8be1f03cbb4a72c"
       ],
       "layout": "IPY_MODEL_af2df6022012415d871872baad856184"
      }
     },
     "a875825ad8a64e3599ad44c1d91c3df0": {
      "model_module": "@jupyter-widgets/controls",
      "model_module_version": "1.5.0",
      "model_name": "HBoxModel",
      "state": {
       "_dom_classes": [],
       "_model_module": "@jupyter-widgets/controls",
       "_model_module_version": "1.5.0",
       "_model_name": "HBoxModel",
       "_view_count": null,
       "_view_module": "@jupyter-widgets/controls",
       "_view_module_version": "1.5.0",
       "_view_name": "HBoxView",
       "box_style": "",
       "children": [
        "IPY_MODEL_ce04a957e5fc4e1498997a185d5590de",
        "IPY_MODEL_01bc2aa3b925448fa7d4181b1f867ea7",
        "IPY_MODEL_0e6f733053fe47219634bca35ab3afc3"
       ],
       "layout": "IPY_MODEL_2f748fd8fea448cfbabb793d57e3b1d6"
      }
     },
     "aafa129d8d554a14948ad36dd4e3b8a1": {
      "model_module": "@jupyter-widgets/controls",
      "model_module_version": "1.5.0",
      "model_name": "HBoxModel",
      "state": {
       "_dom_classes": [],
       "_model_module": "@jupyter-widgets/controls",
       "_model_module_version": "1.5.0",
       "_model_name": "HBoxModel",
       "_view_count": null,
       "_view_module": "@jupyter-widgets/controls",
       "_view_module_version": "1.5.0",
       "_view_name": "HBoxView",
       "box_style": "",
       "children": [
        "IPY_MODEL_55f5f7281f5d432dba13902280acb59f",
        "IPY_MODEL_91309ac1a8b244c085584ddac7185dee",
        "IPY_MODEL_82216aee688d4b938b13bcfefaadc716"
       ],
       "layout": "IPY_MODEL_ac776a5dcd9b4e6d993048b5acd90731"
      }
     },
     "ac776a5dcd9b4e6d993048b5acd90731": {
      "model_module": "@jupyter-widgets/base",
      "model_module_version": "1.2.0",
      "model_name": "LayoutModel",
      "state": {
       "_model_module": "@jupyter-widgets/base",
       "_model_module_version": "1.2.0",
       "_model_name": "LayoutModel",
       "_view_count": null,
       "_view_module": "@jupyter-widgets/base",
       "_view_module_version": "1.2.0",
       "_view_name": "LayoutView",
       "align_content": null,
       "align_items": null,
       "align_self": null,
       "border": null,
       "bottom": null,
       "display": null,
       "flex": null,
       "flex_flow": null,
       "grid_area": null,
       "grid_auto_columns": null,
       "grid_auto_flow": null,
       "grid_auto_rows": null,
       "grid_column": null,
       "grid_gap": null,
       "grid_row": null,
       "grid_template_areas": null,
       "grid_template_columns": null,
       "grid_template_rows": null,
       "height": null,
       "justify_content": null,
       "justify_items": null,
       "left": null,
       "margin": null,
       "max_height": null,
       "max_width": null,
       "min_height": null,
       "min_width": null,
       "object_fit": null,
       "object_position": null,
       "order": null,
       "overflow": null,
       "overflow_x": null,
       "overflow_y": null,
       "padding": null,
       "right": null,
       "top": null,
       "visibility": null,
       "width": null
      }
     },
     "ac7d3f4fcf33464ea373ea76dd8c88e8": {
      "model_module": "@jupyter-widgets/base",
      "model_module_version": "1.2.0",
      "model_name": "LayoutModel",
      "state": {
       "_model_module": "@jupyter-widgets/base",
       "_model_module_version": "1.2.0",
       "_model_name": "LayoutModel",
       "_view_count": null,
       "_view_module": "@jupyter-widgets/base",
       "_view_module_version": "1.2.0",
       "_view_name": "LayoutView",
       "align_content": null,
       "align_items": null,
       "align_self": null,
       "border": null,
       "bottom": null,
       "display": null,
       "flex": null,
       "flex_flow": null,
       "grid_area": null,
       "grid_auto_columns": null,
       "grid_auto_flow": null,
       "grid_auto_rows": null,
       "grid_column": null,
       "grid_gap": null,
       "grid_row": null,
       "grid_template_areas": null,
       "grid_template_columns": null,
       "grid_template_rows": null,
       "height": null,
       "justify_content": null,
       "justify_items": null,
       "left": null,
       "margin": null,
       "max_height": null,
       "max_width": null,
       "min_height": null,
       "min_width": null,
       "object_fit": null,
       "object_position": null,
       "order": null,
       "overflow": null,
       "overflow_x": null,
       "overflow_y": null,
       "padding": null,
       "right": null,
       "top": null,
       "visibility": null,
       "width": null
      }
     },
     "af2df6022012415d871872baad856184": {
      "model_module": "@jupyter-widgets/base",
      "model_module_version": "1.2.0",
      "model_name": "LayoutModel",
      "state": {
       "_model_module": "@jupyter-widgets/base",
       "_model_module_version": "1.2.0",
       "_model_name": "LayoutModel",
       "_view_count": null,
       "_view_module": "@jupyter-widgets/base",
       "_view_module_version": "1.2.0",
       "_view_name": "LayoutView",
       "align_content": null,
       "align_items": null,
       "align_self": null,
       "border": null,
       "bottom": null,
       "display": null,
       "flex": null,
       "flex_flow": null,
       "grid_area": null,
       "grid_auto_columns": null,
       "grid_auto_flow": null,
       "grid_auto_rows": null,
       "grid_column": null,
       "grid_gap": null,
       "grid_row": null,
       "grid_template_areas": null,
       "grid_template_columns": null,
       "grid_template_rows": null,
       "height": null,
       "justify_content": null,
       "justify_items": null,
       "left": null,
       "margin": null,
       "max_height": null,
       "max_width": null,
       "min_height": null,
       "min_width": null,
       "object_fit": null,
       "object_position": null,
       "order": null,
       "overflow": null,
       "overflow_x": null,
       "overflow_y": null,
       "padding": null,
       "right": null,
       "top": null,
       "visibility": null,
       "width": null
      }
     },
     "b2c65d6cf5054dfa982006c0db8cff05": {
      "model_module": "@jupyter-widgets/controls",
      "model_module_version": "1.5.0",
      "model_name": "HTMLModel",
      "state": {
       "_dom_classes": [],
       "_model_module": "@jupyter-widgets/controls",
       "_model_module_version": "1.5.0",
       "_model_name": "HTMLModel",
       "_view_count": null,
       "_view_module": "@jupyter-widgets/controls",
       "_view_module_version": "1.5.0",
       "_view_name": "HTMLView",
       "description": "",
       "description_tooltip": null,
       "layout": "IPY_MODEL_9e02403270464074af4af7bc1fc97aa5",
       "placeholder": "​",
       "style": "IPY_MODEL_7251f7ef8c984efa8e01d14c4b3768ef",
       "value": "tokenizer_config.json: 100%"
      }
     },
     "b9f8af77992e4c3e9ef3424424673d1b": {
      "model_module": "@jupyter-widgets/controls",
      "model_module_version": "1.5.0",
      "model_name": "HTMLModel",
      "state": {
       "_dom_classes": [],
       "_model_module": "@jupyter-widgets/controls",
       "_model_module_version": "1.5.0",
       "_model_name": "HTMLModel",
       "_view_count": null,
       "_view_module": "@jupyter-widgets/controls",
       "_view_module_version": "1.5.0",
       "_view_name": "HTMLView",
       "description": "",
       "description_tooltip": null,
       "layout": "IPY_MODEL_d0345e8b14b6430b9cb51ebd9b8b054d",
       "placeholder": "​",
       "style": "IPY_MODEL_8604ab0767f645e7920402b17a949629",
       "value": " 6/6 [00:00&lt;00:00, 414.14ex/s]"
      }
     },
     "bf6bd70cb61b412b913e6ab5ed5074da": {
      "model_module": "@jupyter-widgets/controls",
      "model_module_version": "1.5.0",
      "model_name": "HTMLModel",
      "state": {
       "_dom_classes": [],
       "_model_module": "@jupyter-widgets/controls",
       "_model_module_version": "1.5.0",
       "_model_name": "HTMLModel",
       "_view_count": null,
       "_view_module": "@jupyter-widgets/controls",
       "_view_module_version": "1.5.0",
       "_view_name": "HTMLView",
       "description": "",
       "description_tooltip": null,
       "layout": "IPY_MODEL_833d714a482546fd99a2f4ef853eb94b",
       "placeholder": "​",
       "style": "IPY_MODEL_87290d85e93c4e659beb1b39cc007079",
       "value": " 2.50k/2.50k [00:00&lt;00:00, 199kB/s]"
      }
     },
     "c4d890efdcef41efabb3acdcef865430": {
      "model_module": "@jupyter-widgets/controls",
      "model_module_version": "1.5.0",
      "model_name": "HBoxModel",
      "state": {
       "_dom_classes": [],
       "_model_module": "@jupyter-widgets/controls",
       "_model_module_version": "1.5.0",
       "_model_name": "HBoxModel",
       "_view_count": null,
       "_view_module": "@jupyter-widgets/controls",
       "_view_module_version": "1.5.0",
       "_view_name": "HBoxView",
       "box_style": "",
       "children": [
        "IPY_MODEL_1b734dee5e2d4905af8ab74218212f14",
        "IPY_MODEL_4b231a45ee8647f18dd0319b0eb56258",
        "IPY_MODEL_bf6bd70cb61b412b913e6ab5ed5074da"
       ],
       "layout": "IPY_MODEL_849d0e4d68974f7eb77e50546d70b47b"
      }
     },
     "c7dba3c427e2412b911f77f58cf2a26c": {
      "model_module": "@jupyter-widgets/base",
      "model_module_version": "1.2.0",
      "model_name": "LayoutModel",
      "state": {
       "_model_module": "@jupyter-widgets/base",
       "_model_module_version": "1.2.0",
       "_model_name": "LayoutModel",
       "_view_count": null,
       "_view_module": "@jupyter-widgets/base",
       "_view_module_version": "1.2.0",
       "_view_name": "LayoutView",
       "align_content": null,
       "align_items": null,
       "align_self": null,
       "border": null,
       "bottom": null,
       "display": null,
       "flex": null,
       "flex_flow": null,
       "grid_area": null,
       "grid_auto_columns": null,
       "grid_auto_flow": null,
       "grid_auto_rows": null,
       "grid_column": null,
       "grid_gap": null,
       "grid_row": null,
       "grid_template_areas": null,
       "grid_template_columns": null,
       "grid_template_rows": null,
       "height": null,
       "justify_content": null,
       "justify_items": null,
       "left": null,
       "margin": null,
       "max_height": null,
       "max_width": null,
       "min_height": null,
       "min_width": null,
       "object_fit": null,
       "object_position": null,
       "order": null,
       "overflow": null,
       "overflow_x": null,
       "overflow_y": null,
       "padding": null,
       "right": null,
       "top": null,
       "visibility": null,
       "width": null
      }
     },
     "ce04a957e5fc4e1498997a185d5590de": {
      "model_module": "@jupyter-widgets/controls",
      "model_module_version": "1.5.0",
      "model_name": "HTMLModel",
      "state": {
       "_dom_classes": [],
       "_model_module": "@jupyter-widgets/controls",
       "_model_module_version": "1.5.0",
       "_model_name": "HTMLModel",
       "_view_count": null,
       "_view_module": "@jupyter-widgets/controls",
       "_view_module_version": "1.5.0",
       "_view_name": "HTMLView",
       "description": "",
       "description_tooltip": null,
       "layout": "IPY_MODEL_322ea15721f14b20a4ff633d38f7ed33",
       "placeholder": "​",
       "style": "IPY_MODEL_6b3a5605587f45fa9efdfcf5e61ab89d",
       "value": "config.json: 100%"
      }
     },
     "d0345e8b14b6430b9cb51ebd9b8b054d": {
      "model_module": "@jupyter-widgets/base",
      "model_module_version": "1.2.0",
      "model_name": "LayoutModel",
      "state": {
       "_model_module": "@jupyter-widgets/base",
       "_model_module_version": "1.2.0",
       "_model_name": "LayoutModel",
       "_view_count": null,
       "_view_module": "@jupyter-widgets/base",
       "_view_module_version": "1.2.0",
       "_view_name": "LayoutView",
       "align_content": null,
       "align_items": null,
       "align_self": null,
       "border": null,
       "bottom": null,
       "display": null,
       "flex": null,
       "flex_flow": null,
       "grid_area": null,
       "grid_auto_columns": null,
       "grid_auto_flow": null,
       "grid_auto_rows": null,
       "grid_column": null,
       "grid_gap": null,
       "grid_row": null,
       "grid_template_areas": null,
       "grid_template_columns": null,
       "grid_template_rows": null,
       "height": null,
       "justify_content": null,
       "justify_items": null,
       "left": null,
       "margin": null,
       "max_height": null,
       "max_width": null,
       "min_height": null,
       "min_width": null,
       "object_fit": null,
       "object_position": null,
       "order": null,
       "overflow": null,
       "overflow_x": null,
       "overflow_y": null,
       "padding": null,
       "right": null,
       "top": null,
       "visibility": null,
       "width": null
      }
     },
     "d3e188892eee402cbec61065ce09e8d5": {
      "model_module": "@jupyter-widgets/base",
      "model_module_version": "1.2.0",
      "model_name": "LayoutModel",
      "state": {
       "_model_module": "@jupyter-widgets/base",
       "_model_module_version": "1.2.0",
       "_model_name": "LayoutModel",
       "_view_count": null,
       "_view_module": "@jupyter-widgets/base",
       "_view_module_version": "1.2.0",
       "_view_name": "LayoutView",
       "align_content": null,
       "align_items": null,
       "align_self": null,
       "border": null,
       "bottom": null,
       "display": null,
       "flex": null,
       "flex_flow": null,
       "grid_area": null,
       "grid_auto_columns": null,
       "grid_auto_flow": null,
       "grid_auto_rows": null,
       "grid_column": null,
       "grid_gap": null,
       "grid_row": null,
       "grid_template_areas": null,
       "grid_template_columns": null,
       "grid_template_rows": null,
       "height": null,
       "justify_content": null,
       "justify_items": null,
       "left": null,
       "margin": null,
       "max_height": null,
       "max_width": null,
       "min_height": null,
       "min_width": null,
       "object_fit": null,
       "object_position": null,
       "order": null,
       "overflow": null,
       "overflow_x": null,
       "overflow_y": null,
       "padding": null,
       "right": null,
       "top": null,
       "visibility": null,
       "width": null
      }
     },
     "ddeb3afb776f44bb9cf192eb364c8fae": {
      "model_module": "@jupyter-widgets/controls",
      "model_module_version": "1.5.0",
      "model_name": "HTMLModel",
      "state": {
       "_dom_classes": [],
       "_model_module": "@jupyter-widgets/controls",
       "_model_module_version": "1.5.0",
       "_model_name": "HTMLModel",
       "_view_count": null,
       "_view_module": "@jupyter-widgets/controls",
       "_view_module_version": "1.5.0",
       "_view_name": "HTMLView",
       "description": "",
       "description_tooltip": null,
       "layout": "IPY_MODEL_89db550108c14e91b5c17e094e005044",
       "placeholder": "​",
       "style": "IPY_MODEL_8b674d0b880e40019a68914214fd59a7",
       "value": "100%"
      }
     },
     "de4c5533e5bb4250a20f7fa01ff0cf3a": {
      "model_module": "@jupyter-widgets/base",
      "model_module_version": "1.2.0",
      "model_name": "LayoutModel",
      "state": {
       "_model_module": "@jupyter-widgets/base",
       "_model_module_version": "1.2.0",
       "_model_name": "LayoutModel",
       "_view_count": null,
       "_view_module": "@jupyter-widgets/base",
       "_view_module_version": "1.2.0",
       "_view_name": "LayoutView",
       "align_content": null,
       "align_items": null,
       "align_self": null,
       "border": null,
       "bottom": null,
       "display": null,
       "flex": null,
       "flex_flow": null,
       "grid_area": null,
       "grid_auto_columns": null,
       "grid_auto_flow": null,
       "grid_auto_rows": null,
       "grid_column": null,
       "grid_gap": null,
       "grid_row": null,
       "grid_template_areas": null,
       "grid_template_columns": null,
       "grid_template_rows": null,
       "height": null,
       "justify_content": null,
       "justify_items": null,
       "left": null,
       "margin": null,
       "max_height": null,
       "max_width": null,
       "min_height": null,
       "min_width": null,
       "object_fit": null,
       "object_position": null,
       "order": null,
       "overflow": null,
       "overflow_x": null,
       "overflow_y": null,
       "padding": null,
       "right": null,
       "top": null,
       "visibility": null,
       "width": null
      }
     },
     "deef30aa12924af890290afb17369635": {
      "model_module": "@jupyter-widgets/controls",
      "model_module_version": "1.5.0",
      "model_name": "HTMLModel",
      "state": {
       "_dom_classes": [],
       "_model_module": "@jupyter-widgets/controls",
       "_model_module_version": "1.5.0",
       "_model_name": "HTMLModel",
       "_view_count": null,
       "_view_module": "@jupyter-widgets/controls",
       "_view_module_version": "1.5.0",
       "_view_name": "HTMLView",
       "description": "",
       "description_tooltip": null,
       "layout": "IPY_MODEL_f09ac580aa134241805feef0a7c511bb",
       "placeholder": "​",
       "style": "IPY_MODEL_6e01b671d99c4f4d829480ea19f3908a",
       "value": "pytorch_model.bin: 100%"
      }
     },
     "df2db46eefda4df6b6816f746789b3eb": {
      "model_module": "@jupyter-widgets/base",
      "model_module_version": "1.2.0",
      "model_name": "LayoutModel",
      "state": {
       "_model_module": "@jupyter-widgets/base",
       "_model_module_version": "1.2.0",
       "_model_name": "LayoutModel",
       "_view_count": null,
       "_view_module": "@jupyter-widgets/base",
       "_view_module_version": "1.2.0",
       "_view_name": "LayoutView",
       "align_content": null,
       "align_items": null,
       "align_self": null,
       "border": null,
       "bottom": null,
       "display": null,
       "flex": null,
       "flex_flow": null,
       "grid_area": null,
       "grid_auto_columns": null,
       "grid_auto_flow": null,
       "grid_auto_rows": null,
       "grid_column": null,
       "grid_gap": null,
       "grid_row": null,
       "grid_template_areas": null,
       "grid_template_columns": null,
       "grid_template_rows": null,
       "height": null,
       "justify_content": null,
       "justify_items": null,
       "left": null,
       "margin": null,
       "max_height": null,
       "max_width": null,
       "min_height": null,
       "min_width": null,
       "object_fit": null,
       "object_position": null,
       "order": null,
       "overflow": null,
       "overflow_x": null,
       "overflow_y": null,
       "padding": null,
       "right": null,
       "top": null,
       "visibility": null,
       "width": null
      }
     },
     "dfe916fb587c40a3b74a7fa594917aa4": {
      "model_module": "@jupyter-widgets/controls",
      "model_module_version": "1.5.0",
      "model_name": "ProgressStyleModel",
      "state": {
       "_model_module": "@jupyter-widgets/controls",
       "_model_module_version": "1.5.0",
       "_model_name": "ProgressStyleModel",
       "_view_count": null,
       "_view_module": "@jupyter-widgets/base",
       "_view_module_version": "1.2.0",
       "_view_name": "StyleView",
       "bar_color": null,
       "description_width": ""
      }
     },
     "e448c4e16e5c4a6eb84670aa688aafaf": {
      "model_module": "@jupyter-widgets/controls",
      "model_module_version": "1.5.0",
      "model_name": "ProgressStyleModel",
      "state": {
       "_model_module": "@jupyter-widgets/controls",
       "_model_module_version": "1.5.0",
       "_model_name": "ProgressStyleModel",
       "_view_count": null,
       "_view_module": "@jupyter-widgets/base",
       "_view_module_version": "1.2.0",
       "_view_name": "StyleView",
       "bar_color": null,
       "description_width": ""
      }
     },
     "eb59d6c32f204549a24ff2a8a2430560": {
      "model_module": "@jupyter-widgets/controls",
      "model_module_version": "1.5.0",
      "model_name": "DescriptionStyleModel",
      "state": {
       "_model_module": "@jupyter-widgets/controls",
       "_model_module_version": "1.5.0",
       "_model_name": "DescriptionStyleModel",
       "_view_count": null,
       "_view_module": "@jupyter-widgets/base",
       "_view_module_version": "1.2.0",
       "_view_name": "StyleView",
       "description_width": ""
      }
     },
     "f0810cef5a1b49d4b8be1f03cbb4a72c": {
      "model_module": "@jupyter-widgets/controls",
      "model_module_version": "1.5.0",
      "model_name": "HTMLModel",
      "state": {
       "_dom_classes": [],
       "_model_module": "@jupyter-widgets/controls",
       "_model_module_version": "1.5.0",
       "_model_name": "HTMLModel",
       "_view_count": null,
       "_view_module": "@jupyter-widgets/controls",
       "_view_module_version": "1.5.0",
       "_view_name": "HTMLView",
       "description": "",
       "description_tooltip": null,
       "layout": "IPY_MODEL_3bc8cdae4343417b97184121f673d197",
       "placeholder": "​",
       "style": "IPY_MODEL_83a809ead33d40aab931431cca08614f",
       "value": " 2.59k/2.59k [00:00&lt;00:00, 203kB/s]"
      }
     },
     "f09ac580aa134241805feef0a7c511bb": {
      "model_module": "@jupyter-widgets/base",
      "model_module_version": "1.2.0",
      "model_name": "LayoutModel",
      "state": {
       "_model_module": "@jupyter-widgets/base",
       "_model_module_version": "1.2.0",
       "_model_name": "LayoutModel",
       "_view_count": null,
       "_view_module": "@jupyter-widgets/base",
       "_view_module_version": "1.2.0",
       "_view_name": "LayoutView",
       "align_content": null,
       "align_items": null,
       "align_self": null,
       "border": null,
       "bottom": null,
       "display": null,
       "flex": null,
       "flex_flow": null,
       "grid_area": null,
       "grid_auto_columns": null,
       "grid_auto_flow": null,
       "grid_auto_rows": null,
       "grid_column": null,
       "grid_gap": null,
       "grid_row": null,
       "grid_template_areas": null,
       "grid_template_columns": null,
       "grid_template_rows": null,
       "height": null,
       "justify_content": null,
       "justify_items": null,
       "left": null,
       "margin": null,
       "max_height": null,
       "max_width": null,
       "min_height": null,
       "min_width": null,
       "object_fit": null,
       "object_position": null,
       "order": null,
       "overflow": null,
       "overflow_x": null,
       "overflow_y": null,
       "padding": null,
       "right": null,
       "top": null,
       "visibility": null,
       "width": null
      }
     },
     "f168da31393b41ecae8c35851831a1bf": {
      "model_module": "@jupyter-widgets/controls",
      "model_module_version": "1.5.0",
      "model_name": "ProgressStyleModel",
      "state": {
       "_model_module": "@jupyter-widgets/controls",
       "_model_module_version": "1.5.0",
       "_model_name": "ProgressStyleModel",
       "_view_count": null,
       "_view_module": "@jupyter-widgets/base",
       "_view_module_version": "1.2.0",
       "_view_name": "StyleView",
       "bar_color": null,
       "description_width": ""
      }
     },
     "fff631dde5e24b109c93ebe801e842d8": {
      "model_module": "@jupyter-widgets/base",
      "model_module_version": "1.2.0",
      "model_name": "LayoutModel",
      "state": {
       "_model_module": "@jupyter-widgets/base",
       "_model_module_version": "1.2.0",
       "_model_name": "LayoutModel",
       "_view_count": null,
       "_view_module": "@jupyter-widgets/base",
       "_view_module_version": "1.2.0",
       "_view_name": "LayoutView",
       "align_content": null,
       "align_items": null,
       "align_self": null,
       "border": null,
       "bottom": null,
       "display": null,
       "flex": null,
       "flex_flow": null,
       "grid_area": null,
       "grid_auto_columns": null,
       "grid_auto_flow": null,
       "grid_auto_rows": null,
       "grid_column": null,
       "grid_gap": null,
       "grid_row": null,
       "grid_template_areas": null,
       "grid_template_columns": null,
       "grid_template_rows": null,
       "height": null,
       "justify_content": null,
       "justify_items": null,
       "left": null,
       "margin": null,
       "max_height": null,
       "max_width": null,
       "min_height": null,
       "min_width": null,
       "object_fit": null,
       "object_position": null,
       "order": null,
       "overflow": null,
       "overflow_x": null,
       "overflow_y": null,
       "padding": null,
       "right": null,
       "top": null,
       "visibility": null,
       "width": null
      }
     }
    },
    "version_major": 2,
    "version_minor": 0
   }
  }
 },
 "nbformat": 4,
 "nbformat_minor": 5
}
